{
 "cells": [
  {
   "cell_type": "code",
   "execution_count": 11,
   "metadata": {},
   "outputs": [],
   "source": [
    "import pandas as pd\n",
    "import chardet"
   ]
  },
  {
   "cell_type": "code",
   "execution_count": 12,
   "metadata": {},
   "outputs": [
    {
     "name": "stdout",
     "output_type": "stream",
     "text": [
      "Detected encoding: utf-8\n",
      "                       id  predicted_answer  true_answer  is_correct  \\\n",
      "0  generation-for-nlp-425                 2            2        True   \n",
      "1  generation-for-nlp-435                 2            2        True   \n",
      "2  generation-for-nlp-455                 2            2        True   \n",
      "3  generation-for-nlp-487                 2            2        True   \n",
      "4  generation-for-nlp-488                 2            2        True   \n",
      "\n",
      "   pred_confidence  confidence_gap  \\\n",
      "0         0.954800        0.929414   \n",
      "1         0.988689        0.980803   \n",
      "2         0.988724        0.980627   \n",
      "3         0.937561        0.903504   \n",
      "4         0.978434        0.962244   \n",
      "\n",
      "                                               probs  \\\n",
      "0  [0.01537712849676609, 0.9547995328903198, 0.02...   \n",
      "1  [0.007886448875069618, 0.988689124584198, 0.00...   \n",
      "2  [0.002501123584806919, 0.9887240529060364, 0.0...   \n",
      "3  [0.014634663239121437, 0.9375613331794739, 0.0...   \n",
      "4  [0.0013501294888556004, 0.9784336686134338, 0....   \n",
      "\n",
      "                                           paragraph  \\\n",
      "0  상소하여 아뢰기를 , “신이 좌참 찬 송준길이 올린 차자를 보았는데 , 상복(喪服)...   \n",
      "1  올해 초가을에 비로소 저는 책을 완성하여 그 이름을 성학집요 라고 하였습니다. 이 ...   \n",
      "2  소총회는 …(중략) … 한국 인민의 대표가 국회를 구성하여 중앙정부를 수립할 수 있...   \n",
      "3  16년 겨울 10월, 왕이 질양(質陽)으로 사냥을 갔다가 길에 앉아 우는 자를 보았...   \n",
      "4  ○왕이수(隋)에 군사를 청하는 글을 요청하자, ㉠은/는 “자기가 살기 위해 남을 멸...   \n",
      "\n",
      "                                question  \\\n",
      "0  상소한 인물이 속한 붕당에 대한 설명으로 옳은 것만을 모두 고르면?   \n",
      "1               밑줄 친 ‘저’에 대한 설명으로 옳은 것은?   \n",
      "2        다음과 같은 결의문에 근거하여 시행된 조치로 옳은 것은?   \n",
      "3               밑줄 친 ‘왕’에 대한 설명으로 옳은 것은?   \n",
      "4                   ㉠, ㉡ 승려의 활동으로 옳은 것은?   \n",
      "\n",
      "                                             choices  answer  question_plus  \\\n",
      "0                   ['ㄱ, ㄴ', 'ㄱ, ㄷ', 'ㄴ, ㄹ', 'ㄷ, ㄹ']       2            NaN   \n",
      "1  ['예안향약을 만들었다 .', '동호문답 을 저술하였다 .', '백운동 서원을 건립...       2            NaN   \n",
      "2  ['미 군정청이 설치되었다 .', '5ㆍ10 총선거가 실시되었다 .', '좌우 합작...       2            NaN   \n",
      "3  ['낙랑군을 축출하였다 .', '진대법 을 시행하였다 .', '백제의 침입으로 전사...       2            NaN   \n",
      "4  ['㉠－왕에게 건의하여 황룡사 9층 탑을 세웠다.', '㉠－화랑이 지켜야 할 세속오...       2            NaN   \n",
      "\n",
      "  confidence_gap_bin prediction_result   category  \n",
      "0         [0.9, 1.0)           Correct  kmmlu-한국사  \n",
      "1         [0.9, 1.0)           Correct  kmmlu-한국사  \n",
      "2         [0.9, 1.0)           Correct  kmmlu-한국사  \n",
      "3         [0.9, 1.0)           Correct  kmmlu-한국사  \n",
      "4         [0.9, 1.0)           Correct  kmmlu-한국사  \n"
     ]
    }
   ],
   "source": [
    "file_path=\"/data/ephemeral/home/sujin/category_data/category_high_confidence_samples.csv\"\n",
    "# 파일의 인코딩 확인\n",
    "with open(file_path, 'rb') as file:\n",
    "    raw_data = file.read()\n",
    "    result = chardet.detect(raw_data)\n",
    "    encoding = result['encoding']\n",
    "\n",
    "# 결과 출력\n",
    "print(f\"Detected encoding: {encoding}\")\n",
    "\n",
    "# 인코딩 정보를 사용해 파일 로드\n",
    "data = pd.read_csv(file_path, encoding=encoding)\n",
    "print(data.head())\n"
   ]
  },
  {
   "cell_type": "code",
   "execution_count": 13,
   "metadata": {},
   "outputs": [
    {
     "name": "stdout",
     "output_type": "stream",
     "text": [
      "category\n",
      "klue-mrc-경제                      1.0\n",
      "klue-mrc-교육산업                    1.0\n",
      "klue-mrc-국제                      1.0\n",
      "klue-mrc-부동산                     1.0\n",
      "klue-mrc-사회                      1.0\n",
      "klue-mrc-생활                      1.0\n",
      "klue-mrc-책마을                     1.0\n",
      "kmmlu-한국사                        1.0\n",
      "mmmlu-european_history           1.0\n",
      "mmmlu-geography                  1.0\n",
      "mmmlu-government_and_politics    1.0\n",
      "mmmlu-macroeconomics             1.0\n",
      "mmmlu-microeconomics             1.0\n",
      "mmmlu-psychology                 1.0\n",
      "mmmlu-us_history                 1.0\n",
      "mmmlu-world_history              1.0\n",
      "Name: is_correct, dtype: float64\n"
     ]
    }
   ],
   "source": [
    "#category 별 정확도 계산\n",
    "category_analysis = data.groupby('category')['is_correct'].mean()\n",
    "print(category_analysis)"
   ]
  },
  {
   "cell_type": "code",
   "execution_count": 14,
   "metadata": {},
   "outputs": [
    {
     "name": "stdout",
     "output_type": "stream",
     "text": [
      "category\n",
      "klue-mrc-경제                      1.0\n",
      "klue-mrc-교육산업                    1.0\n",
      "klue-mrc-국제                      1.0\n",
      "klue-mrc-부동산                     1.0\n",
      "klue-mrc-사회                      1.0\n",
      "klue-mrc-생활                      1.0\n",
      "klue-mrc-책마을                     1.0\n",
      "kmmlu-한국사                        1.0\n",
      "mmmlu-european_history           1.0\n",
      "mmmlu-geography                  1.0\n",
      "mmmlu-government_and_politics    1.0\n",
      "mmmlu-macroeconomics             1.0\n",
      "mmmlu-microeconomics             1.0\n",
      "mmmlu-psychology                 1.0\n",
      "mmmlu-us_history                 1.0\n",
      "mmmlu-world_history              1.0\n",
      "Name: is_correct, dtype: float64\n"
     ]
    }
   ],
   "source": [
    "sorted_category_analysis = category_analysis.sort_values(ascending=False)\n",
    "print(sorted_category_analysis)"
   ]
  },
  {
   "cell_type": "code",
   "execution_count": 15,
   "metadata": {},
   "outputs": [
    {
     "name": "stdout",
     "output_type": "stream",
     "text": [
      "category\n",
      "klue-mrc-사회                      286\n",
      "klue-mrc-국제                      233\n",
      "klue-mrc-부동산                     221\n",
      "klue-mrc-경제                      219\n",
      "mmmlu-world_history               90\n",
      "klue-mrc-책마을                      78\n",
      "klue-mrc-생활                       76\n",
      "mmmlu-european_history            46\n",
      "mmmlu-us_history                  46\n",
      "mmmlu-psychology                  36\n",
      "klue-mrc-교육산업                     18\n",
      "mmmlu-macroeconomics              11\n",
      "kmmlu-한국사                          6\n",
      "mmmlu-geography                    5\n",
      "mmmlu-microeconomics               4\n",
      "mmmlu-government_and_politics      2\n",
      "Name: count, dtype: int64\n"
     ]
    }
   ],
   "source": [
    "#카테고리별 개수 확인\n",
    "category_counts = data['category'].value_counts()\n",
    "print(category_counts)"
   ]
  },
  {
   "cell_type": "code",
   "execution_count": 16,
   "metadata": {},
   "outputs": [
    {
     "data": {
      "text/plain": [
       "1377"
      ]
     },
     "execution_count": 16,
     "metadata": {},
     "output_type": "execute_result"
    }
   ],
   "source": [
    "sum(category_counts)"
   ]
  }
 ],
 "metadata": {
  "kernelspec": {
   "display_name": "base",
   "language": "python",
   "name": "python3"
  },
  "language_info": {
   "codemirror_mode": {
    "name": "ipython",
    "version": 3
   },
   "file_extension": ".py",
   "mimetype": "text/x-python",
   "name": "python",
   "nbconvert_exporter": "python",
   "pygments_lexer": "ipython3",
   "version": "3.10.13"
  }
 },
 "nbformat": 4,
 "nbformat_minor": 2
}
