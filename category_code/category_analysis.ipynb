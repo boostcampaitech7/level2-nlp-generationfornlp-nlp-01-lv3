{
 "cells": [
  {
   "cell_type": "code",
   "execution_count": 3,
   "metadata": {},
   "outputs": [],
   "source": [
    "import pandas as pd\n",
    "import chardet"
   ]
  },
  {
   "cell_type": "code",
   "execution_count": 4,
   "metadata": {},
   "outputs": [
    {
     "name": "stdout",
     "output_type": "stream",
     "text": [
      "Detected encoding: EUC-KR\n",
      "                       id  predicted_answer  true_answer  is_correct  \\\n",
      "0  generation-for-nlp-425                 1            2       False   \n",
      "1  generation-for-nlp-427                 3            4       False   \n",
      "2  generation-for-nlp-428                 2            2        True   \n",
      "3  generation-for-nlp-429                 3            3        True   \n",
      "4  generation-for-nlp-431                 3            3        True   \n",
      "\n",
      "   pred_confidence  confidence_gap  \\\n",
      "0         0.761306        0.636302   \n",
      "1         0.411904        0.051839   \n",
      "2         0.379754        0.040192   \n",
      "3         0.422886        0.150259   \n",
      "4         0.528001        0.273751   \n",
      "\n",
      "                                               probs   category  \n",
      "0  [0.7613058090209961, 0.12500342726707458, 0.05...  kmmlu-한국사  \n",
      "1  [0.10956212133169174, 0.36006489396095276, 0.4...  kmmlu-한국사  \n",
      "2  [0.12134505808353424, 0.37975358963012695, 0.3...  kmmlu-한국사  \n",
      "3  [0.18787528574466705, 0.11661103367805481, 0.4...  kmmlu-한국사  \n",
      "4  [0.08974219113588333, 0.2542502284049988, 0.52...  kmmlu-한국사  \n"
     ]
    }
   ],
   "source": [
    "file_path=\"./detailed_output_with_category.csv\"\n",
    "# 파일의 인코딩 확인\n",
    "with open(file_path, 'rb') as file:\n",
    "    raw_data = file.read()\n",
    "    result = chardet.detect(raw_data)\n",
    "    encoding = result['encoding']\n",
    "\n",
    "# 결과 출력\n",
    "print(f\"Detected encoding: {encoding}\")\n",
    "\n",
    "# 인코딩 정보를 사용해 파일 로드\n",
    "data = pd.read_csv(file_path, encoding=encoding)\n",
    "print(data.head())\n"
   ]
  },
  {
   "cell_type": "code",
   "execution_count": 6,
   "metadata": {},
   "outputs": [
    {
     "name": "stdout",
     "output_type": "stream",
     "text": [
      "category\n",
      "klue-mrc-경제                      0.786611\n",
      "klue-mrc-교육산업                    0.631579\n",
      "klue-mrc-국제                      0.837302\n",
      "klue-mrc-부동산                     0.758065\n",
      "klue-mrc-사회                      0.823344\n",
      "klue-mrc-생활                      0.753086\n",
      "klue-mrc-책마을                     0.795181\n",
      "kmmlu-한국사                        0.430769\n",
      "mmmlu-european_history           0.396947\n",
      "mmmlu-geography                  0.285714\n",
      "mmmlu-government_and_politics    0.444444\n",
      "mmmlu-macroeconomics             0.372881\n",
      "mmmlu-microeconomics             0.388889\n",
      "mmmlu-psychology                 0.453237\n",
      "mmmlu-us_history                 0.373016\n",
      "mmmlu-world_history              0.406250\n",
      "Name: is_correct, dtype: float64\n"
     ]
    }
   ],
   "source": [
    "#category 별 정확도 계산\n",
    "category_analysis = data.groupby('category')['is_correct'].mean()\n",
    "print(category_analysis)"
   ]
  },
  {
   "cell_type": "code",
   "execution_count": 7,
   "metadata": {},
   "outputs": [
    {
     "name": "stdout",
     "output_type": "stream",
     "text": [
      "category\n",
      "klue-mrc-국제                      0.837302\n",
      "klue-mrc-사회                      0.823344\n",
      "klue-mrc-책마을                     0.795181\n",
      "klue-mrc-경제                      0.786611\n",
      "klue-mrc-부동산                     0.758065\n",
      "klue-mrc-생활                      0.753086\n",
      "klue-mrc-교육산업                    0.631579\n",
      "mmmlu-psychology                 0.453237\n",
      "mmmlu-government_and_politics    0.444444\n",
      "kmmlu-한국사                        0.430769\n",
      "mmmlu-world_history              0.406250\n",
      "mmmlu-european_history           0.396947\n",
      "mmmlu-microeconomics             0.388889\n",
      "mmmlu-us_history                 0.373016\n",
      "mmmlu-macroeconomics             0.372881\n",
      "mmmlu-geography                  0.285714\n",
      "Name: is_correct, dtype: float64\n"
     ]
    }
   ],
   "source": [
    "sorted_category_analysis = category_analysis.sort_values(ascending=False)\n",
    "print(sorted_category_analysis)"
   ]
  }
 ],
 "metadata": {
  "kernelspec": {
   "display_name": "base",
   "language": "python",
   "name": "python3"
  },
  "language_info": {
   "codemirror_mode": {
    "name": "ipython",
    "version": 3
   },
   "file_extension": ".py",
   "mimetype": "text/x-python",
   "name": "python",
   "nbconvert_exporter": "python",
   "pygments_lexer": "ipython3",
   "version": "3.10.13"
  }
 },
 "nbformat": 4,
 "nbformat_minor": 2
}
