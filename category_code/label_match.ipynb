{
 "cells": [
  {
   "cell_type": "code",
   "execution_count": 8,
   "metadata": {},
   "outputs": [],
   "source": [
    "import pandas as pd\n",
    "import chardet"
   ]
  },
  {
   "cell_type": "code",
   "execution_count": 9,
   "metadata": {},
   "outputs": [
    {
     "name": "stdout",
     "output_type": "stream",
     "text": [
      "Detected encoding: CP949\n",
      "                       id                                          paragraph  \\\n",
      "0  generation-for-nlp-425  상소하여 아뢰기를 , “신이 좌참 찬 송준길이 올린 차자를 보았는데 , 상복(喪服)...   \n",
      "1  generation-for-nlp-427  나는 삼한(三韓) 산천의 음덕을 입어 대업을 이루었다.(가)는/은 수덕(水德)이 순...   \n",
      "2  generation-for-nlp-428  이 날 소정방이 부총관 김인문 등과 함께 기 벌포에 도착하여 백제 군사와 마주쳤다....   \n",
      "3  generation-for-nlp-429  선비들 수만 명이 대궐 앞에 모여 만 동묘와 서원을 다시 설립할 것을 청하니, (가...   \n",
      "4  generation-for-nlp-431  (가)의 사신 고제덕 등이 일본에 와서 왕이 보낸 국서를 전하였다. 그 국서에 이르...   \n",
      "\n",
      "                                            problems   category  \n",
      "0  {\"question\": \"상소한 인물이 속한 붕당에 대한 설명으로 옳은 것만을 모두...  kmmlu-한국사  \n",
      "1  {\"question\": \"(가) 지역에 대한 설명으로 옳은 것은?\", \"choice...  kmmlu-한국사  \n",
      "2  {\"question\": \" ‘그’에 대한 설명으로 옳은 것은?\", \"choices\"...  kmmlu-한국사  \n",
      "3  {\"question\": \"(가) 인물이 추진한 정책으로 옳지 않은 것은?\", \"ch...  kmmlu-한국사  \n",
      "4  {\"question\": \"(가) 국가에 대한 설명으로 옳은 것은?\", \"choice...  kmmlu-한국사  \n"
     ]
    }
   ],
   "source": [
    "file_path=\"../data/cleaned_category_labeled_train.csv\"\n",
    "# 파일의 인코딩 확인\n",
    "with open(file_path, 'rb') as file:\n",
    "    raw_data = file.read()\n",
    "    result = chardet.detect(raw_data)\n",
    "    encoding = result['encoding']\n",
    "\n",
    "# 결과 출력\n",
    "print(f\"Detected encoding: {encoding}\")\n",
    "\n",
    "# 인코딩 정보를 사용해 파일 로드\n",
    "labeled_data = pd.read_csv(file_path, encoding=encoding)\n",
    "print(labeled_data.head())"
   ]
  },
  {
   "cell_type": "code",
   "execution_count": 10,
   "metadata": {},
   "outputs": [
    {
     "name": "stdout",
     "output_type": "stream",
     "text": [
      "Detected encoding: utf-8\n",
      "                       id  predicted_answer  true_answer  is_correct  \\\n",
      "0  generation-for-nlp-425                 2            2        True   \n",
      "1  generation-for-nlp-435                 2            2        True   \n",
      "2  generation-for-nlp-455                 2            2        True   \n",
      "3  generation-for-nlp-487                 2            2        True   \n",
      "4  generation-for-nlp-488                 2            2        True   \n",
      "\n",
      "   pred_confidence  confidence_gap  \\\n",
      "0         0.954800        0.929414   \n",
      "1         0.988689        0.980803   \n",
      "2         0.988724        0.980627   \n",
      "3         0.937561        0.903504   \n",
      "4         0.978434        0.962244   \n",
      "\n",
      "                                               probs  \\\n",
      "0  [0.01537712849676609, 0.9547995328903198, 0.02...   \n",
      "1  [0.007886448875069618, 0.988689124584198, 0.00...   \n",
      "2  [0.002501123584806919, 0.9887240529060364, 0.0...   \n",
      "3  [0.014634663239121437, 0.9375613331794739, 0.0...   \n",
      "4  [0.0013501294888556004, 0.9784336686134338, 0....   \n",
      "\n",
      "                                           paragraph  \\\n",
      "0  상소하여 아뢰기를 , “신이 좌참 찬 송준길이 올린 차자를 보았는데 , 상복(喪服)...   \n",
      "1  올해 초가을에 비로소 저는 책을 완성하여 그 이름을 성학집요 라고 하였습니다. 이 ...   \n",
      "2  소총회는 …(중략) … 한국 인민의 대표가 국회를 구성하여 중앙정부를 수립할 수 있...   \n",
      "3  16년 겨울 10월, 왕이 질양(質陽)으로 사냥을 갔다가 길에 앉아 우는 자를 보았...   \n",
      "4  ○왕이수(隋)에 군사를 청하는 글을 요청하자, ㉠은/는 “자기가 살기 위해 남을 멸...   \n",
      "\n",
      "                                question  \\\n",
      "0  상소한 인물이 속한 붕당에 대한 설명으로 옳은 것만을 모두 고르면?   \n",
      "1               밑줄 친 ‘저’에 대한 설명으로 옳은 것은?   \n",
      "2        다음과 같은 결의문에 근거하여 시행된 조치로 옳은 것은?   \n",
      "3               밑줄 친 ‘왕’에 대한 설명으로 옳은 것은?   \n",
      "4                   ㉠, ㉡ 승려의 활동으로 옳은 것은?   \n",
      "\n",
      "                                             choices  answer  question_plus  \\\n",
      "0                   ['ㄱ, ㄴ', 'ㄱ, ㄷ', 'ㄴ, ㄹ', 'ㄷ, ㄹ']       2            NaN   \n",
      "1  ['예안향약을 만들었다 .', '동호문답 을 저술하였다 .', '백운동 서원을 건립...       2            NaN   \n",
      "2  ['미 군정청이 설치되었다 .', '5ㆍ10 총선거가 실시되었다 .', '좌우 합작...       2            NaN   \n",
      "3  ['낙랑군을 축출하였다 .', '진대법 을 시행하였다 .', '백제의 침입으로 전사...       2            NaN   \n",
      "4  ['㉠－왕에게 건의하여 황룡사 9층 탑을 세웠다.', '㉠－화랑이 지켜야 할 세속오...       2            NaN   \n",
      "\n",
      "  confidence_gap_bin prediction_result  \n",
      "0         [0.9, 1.0)           Correct  \n",
      "1         [0.9, 1.0)           Correct  \n",
      "2         [0.9, 1.0)           Correct  \n",
      "3         [0.9, 1.0)           Correct  \n",
      "4         [0.9, 1.0)           Correct  \n"
     ]
    }
   ],
   "source": [
    "file_path2=\"/data/ephemeral/home/sujin/data/correct_high_confidence_gap_samples.csv\"\n",
    "# 파일의 인코딩 확인\n",
    "with open(file_path2, 'rb') as file:\n",
    "    raw_data = file.read()\n",
    "    result = chardet.detect(raw_data)\n",
    "    encoding = result['encoding']\n",
    "\n",
    "# 결과 출력\n",
    "print(f\"Detected encoding: {encoding}\")\n",
    "\n",
    "# 인코딩 정보를 사용해 파일 로드\n",
    "model_data = pd.read_csv(file_path2, encoding=encoding)\n",
    "print(model_data.head())"
   ]
  },
  {
   "cell_type": "code",
   "execution_count": 11,
   "metadata": {},
   "outputs": [
    {
     "name": "stdout",
     "output_type": "stream",
     "text": [
      "제외된 행의 개수: 0\n",
      "처리 완료: 'category_high_confidence_samples.csv'에 저장되었습니다.\n"
     ]
    }
   ],
   "source": [
    "# `id` 열 기준으로 `cleaned_category_labeled_train.csv`에 없는 행 필터링\n",
    "valid_ids = set(labeled_data['id'])\n",
    "filtered_incorrect_gap_df = model_data[model_data['id'].isin(valid_ids)]\n",
    "\n",
    "# 제외된 행의 개수 계산\n",
    "initial_count = len(model_data)\n",
    "filtered_count = len(filtered_incorrect_gap_df)\n",
    "excluded_count = initial_count - filtered_count\n",
    "\n",
    "print(f\"제외된 행의 개수: {excluded_count}\")\n",
    "\n",
    "# `id` 기준으로 `category` 열 추가\n",
    "merged_df = filtered_incorrect_gap_df.merge(\n",
    "    labeled_data[['id', 'category']], \n",
    "    on='id', \n",
    "    how='left'\n",
    ")\n",
    "\n",
    "# 결과를 CSV 파일로 저장\n",
    "merged_df.to_csv('../category_data/category_high_confidence_samples.csv', index=False)\n",
    "\n",
    "print(\"처리 완료: 'category_high_confidence_samples.csv'에 저장되었습니다.\")"
   ]
  }
 ],
 "metadata": {
  "kernelspec": {
   "display_name": "base",
   "language": "python",
   "name": "python3"
  },
  "language_info": {
   "codemirror_mode": {
    "name": "ipython",
    "version": 3
   },
   "file_extension": ".py",
   "mimetype": "text/x-python",
   "name": "python",
   "nbconvert_exporter": "python",
   "pygments_lexer": "ipython3",
   "version": "3.10.13"
  }
 },
 "nbformat": 4,
 "nbformat_minor": 2
}
