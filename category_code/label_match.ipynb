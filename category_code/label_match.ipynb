{
 "cells": [
  {
   "cell_type": "code",
   "execution_count": 1,
   "metadata": {},
   "outputs": [],
   "source": [
    "import pandas as pd\n",
    "import chardet"
   ]
  },
  {
   "cell_type": "code",
   "execution_count": null,
   "metadata": {},
   "outputs": [],
   "source": [
    "file_path=\"../data/cleaned_category_labeled_train.csv\"\n",
    "# 파일의 인코딩 확인\n",
    "with open(file_path, 'rb') as file:\n",
    "    raw_data = file.read()\n",
    "    result = chardet.detect(raw_data)\n",
    "    encoding = result['encoding']\n",
    "\n",
    "# 결과 출력\n",
    "print(f\"Detected encoding: {encoding}\")\n",
    "\n",
    "# 인코딩 정보를 사용해 파일 로드\n",
    "labeled_data = pd.read_csv(file_path, encoding=encoding)\n",
    "print(labeled_data.head())"
   ]
  },
  {
   "cell_type": "code",
   "execution_count": 3,
   "metadata": {},
   "outputs": [
    {
     "name": "stdout",
     "output_type": "stream",
     "text": [
      "Detected encoding: utf-8\n",
      "                       id  predicted_answer  true_answer  is_correct  \\\n",
      "0  generation-for-nlp-465                 2            4       False   \n",
      "1  generation-for-nlp-522                 4            3       False   \n",
      "2  generation-for-nlp-531                 2            1       False   \n",
      "3  generation-for-nlp-537                 3            2       False   \n",
      "4  generation-for-nlp-539                 3            2       False   \n",
      "\n",
      "   pred_confidence  confidence_gap  \\\n",
      "0         0.955029        0.927404   \n",
      "1         0.999382        0.998773   \n",
      "2         0.999969        0.999942   \n",
      "3         0.998742        0.997860   \n",
      "4         0.986178        0.979941   \n",
      "\n",
      "                                               probs  \\\n",
      "0  [0.027625156566500664, 0.9550286531448364, 0.0...   \n",
      "1  [7.029813332337653e-06, 3.178063252562424e-06,...   \n",
      "2  [2.665575811988674e-05, 0.9999691247940063, 2....   \n",
      "3  [0.0008829219150356948, 0.00017302398919127882...   \n",
      "4  [0.0062372516840696335, 0.0014378975611180067,...   \n",
      "\n",
      "                                           paragraph  \\\n",
      "0  (가) 김시민이 진주성에서 일본군을 저지하였다.(나) 조선수군이 명량해전에서 크게 ...   \n",
      "1  플로렌스는 당신네들의 베니스보다 훨씬 아름답고 540년이나 더 유서 깊은 도시입니다...   \n",
      "2  아래의 두 발췌문은 각각 탐험가 크리스토퍼 콜럼버스와 멕시코 치아파스의 도미니카 주...   \n",
      "3  “11. 현재의 과학이 효과의 발견에 쓸모가 없듯, 현재의 논리 체계도 과학의 발견...   \n",
      "4  450명의 병든 주민 중 200명은 살릴 수 없었으며, 우리는 그들이 길가에 누워 ...   \n",
      "\n",
      "                                           question  \\\n",
      "0                   임진왜란의 주요 사건을 시기 순으로 바르게 나열한 것은?   \n",
      "1                 이 글이 드러내는 르네상스 시대의 문화적 특징은 무엇입니까?   \n",
      "2  본문 2에서 데 라스 카사스가 가장 중요하다고 생각했을 법한 탐험의 동기는 무엇입니까?   \n",
      "3     위 글에서 설명하고 있는 경험적 추론은 1800년대까지 어떠한 변화를 겪었습니까?   \n",
      "4   다음 중 위에 언급된 굶주림 문제를 종식하는 데 가장 큰 역할을 한 것은 무엇입니까?   \n",
      "\n",
      "                                             choices  answer  question_plus  \\\n",
      "0  ['(가)→(다)→(마)→(라)→(나)', '(가)→(마)→(다)→(나)→(라)',...       4            NaN   \n",
      "1      ['탁월한 용병술에 대한 자부심', '기사도', '시민 자부심', '예술 후원']       3            NaN   \n",
      "2    ['원주민들을 기독교로 개종', '부의 축적', '개인적 영광', '새 친구 찾기']       1            NaN   \n",
      "3  ['의미가 없어질 정도로 약화되었다.', '유럽 문화의 핵심 원칙이 되었다.', '...       2            NaN   \n",
      "4  ['17세기 유럽의 흑사병 종식', '17세기 농업혁명을 통한 휴경지 소멸', '사...       2            NaN   \n",
      "\n",
      "  confidence_gap_bin prediction_result  \n",
      "0         [0.9, 1.0)         Incorrect  \n",
      "1         [0.9, 1.0)         Incorrect  \n",
      "2         [0.9, 1.0)         Incorrect  \n",
      "3         [0.9, 1.0)         Incorrect  \n",
      "4         [0.9, 1.0)         Incorrect  \n"
     ]
    }
   ],
   "source": [
    "file_path2=\"/data/ephemeral/home/sujin/data/incorrect_high_confidence_gap_samples.csv\"\n",
    "# 파일의 인코딩 확인\n",
    "with open(file_path2, 'rb') as file:\n",
    "    raw_data = file.read()\n",
    "    result = chardet.detect(raw_data)\n",
    "    encoding = result['encoding']\n",
    "\n",
    "# 결과 출력\n",
    "print(f\"Detected encoding: {encoding}\")\n",
    "\n",
    "# 인코딩 정보를 사용해 파일 로드\n",
    "model_data = pd.read_csv(file_path2, encoding=encoding)\n",
    "print(model_data.head())"
   ]
  },
  {
   "cell_type": "code",
   "execution_count": 6,
   "metadata": {},
   "outputs": [
    {
     "name": "stdout",
     "output_type": "stream",
     "text": [
      "제외된 행의 개수: 1\n",
      "처리 완료: 'category_incorrect_high_confidence_samples.csv'에 저장되었습니다.\n"
     ]
    }
   ],
   "source": [
    "# `id` 열 기준으로 `cleaned_category_labeled_train.csv`에 없는 행 필터링\n",
    "valid_ids = set(labeled_data['id'])\n",
    "filtered_incorrect_gap_df = model_data[model_data['id'].isin(valid_ids)]\n",
    "\n",
    "# 제외된 행의 개수 계산\n",
    "initial_count = len(model_data)\n",
    "filtered_count = len(filtered_incorrect_gap_df)\n",
    "excluded_count = initial_count - filtered_count\n",
    "\n",
    "print(f\"제외된 행의 개수: {excluded_count}\")\n",
    "\n",
    "# `id` 기준으로 `category` 열 추가\n",
    "merged_df = filtered_incorrect_gap_df.merge(\n",
    "    labeled_data[['id', 'category']], \n",
    "    on='id', \n",
    "    how='left'\n",
    ")\n",
    "\n",
    "# 결과를 CSV 파일로 저장\n",
    "merged_df.to_csv('../category_data/category_incorrect_high_confidence_samples.csv', index=False)\n",
    "\n",
    "print(\"처리 완료: 'category_incorrect_high_confidence_samples.csv'에 저장되었습니다.\")"
   ]
  }
 ],
 "metadata": {
  "kernelspec": {
   "display_name": "base",
   "language": "python",
   "name": "python3"
  },
  "language_info": {
   "codemirror_mode": {
    "name": "ipython",
    "version": 3
   },
   "file_extension": ".py",
   "mimetype": "text/x-python",
   "name": "python",
   "nbconvert_exporter": "python",
   "pygments_lexer": "ipython3",
   "version": "3.10.13"
  }
 },
 "nbformat": 4,
 "nbformat_minor": 2
}
