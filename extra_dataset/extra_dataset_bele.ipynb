{
 "cells": [
  {
   "cell_type": "code",
   "execution_count": 1,
   "id": "73eabefb-72ab-457c-a8be-93a94456f9ed",
   "metadata": {},
   "outputs": [],
   "source": [
    "import pandas as pd\n",
    "from datasets import load_dataset, concatenate_datasets"
   ]
  },
  {
   "cell_type": "code",
   "execution_count": 2,
   "id": "2fba5523-4672-43f8-bd9f-5e80c401860d",
   "metadata": {},
   "outputs": [],
   "source": [
    "bele = load_dataset(\"facebook/belebele\", \"kor_Hang\")"
   ]
  },
  {
   "cell_type": "code",
   "execution_count": 3,
   "id": "b23e0513-8ace-44c2-8b37-22ca681c1e7a",
   "metadata": {},
   "outputs": [
    {
     "data": {
      "text/plain": [
       "DatasetDict({\n",
       "    test: Dataset({\n",
       "        features: ['link', 'question_number', 'flores_passage', 'question', 'mc_answer1', 'mc_answer2', 'mc_answer3', 'mc_answer4', 'correct_answer_num', 'dialect', 'ds'],\n",
       "        num_rows: 900\n",
       "    })\n",
       "})"
      ]
     },
     "execution_count": 3,
     "metadata": {},
     "output_type": "execute_result"
    }
   ],
   "source": [
    "bele"
   ]
  },
  {
   "cell_type": "code",
   "execution_count": 4,
   "id": "5da41ab3-8f28-4060-9bf2-79c189e4cee3",
   "metadata": {},
   "outputs": [],
   "source": [
    "bele = bele['test']"
   ]
  },
  {
   "cell_type": "code",
   "execution_count": 5,
   "id": "4412845c-e721-4bbd-8bd5-f6712fd0ddb4",
   "metadata": {},
   "outputs": [
    {
     "data": {
      "text/plain": [
       "900"
      ]
     },
     "execution_count": 5,
     "metadata": {},
     "output_type": "execute_result"
    }
   ],
   "source": [
    "len(bele)"
   ]
  },
  {
   "cell_type": "code",
   "execution_count": 6,
   "id": "33e81878-28d5-4b1c-a73c-a023dab5f558",
   "metadata": {},
   "outputs": [
    {
     "data": {
      "text/plain": [
       "{'link': 'https://en.wikibooks.org/wiki/The_Cold_War/Introduction',\n",
       " 'question_number': 1,\n",
       " 'flores_passage': '2차 세계 대전에서 독일은 공통의 적이었고 이는 소련과 미국의 협력으로 이어졌습니다. 전쟁이 끝남과 함께 시스템, 변화 및 문화의 충돌은 여러 국가의 쇠락으로 이어졌습니다. 종전 2년이라는 세월이 흐르면서 이전의 동맹국들은 이제 적이 되었고 냉전이 시작되었다. 냉전은 이후 40년 동안 지속될 것이었고 아프리카에서 아시아 지역, 아프가니스탄, 쿠바, 그리고 다른 많은 지역의 전장에서 대리군들에 의한 실제 싸움이 될 것이었다.',\n",
       " 'question': '지문에 따르면, 다음 중 소련과 미국 간의 관계에 영향을 미치지 않은 것은 무엇인가?',\n",
       " 'mc_answer1': '문화적 차이',\n",
       " 'mc_answer2': '독일에 대한 의견',\n",
       " 'mc_answer3': '대조적인 프로세스',\n",
       " 'mc_answer4': '시스템에 대한 분쟁',\n",
       " 'correct_answer_num': '2',\n",
       " 'dialect': 'kor_Hang',\n",
       " 'ds': datetime.datetime(2023, 7, 21, 0, 0)}"
      ]
     },
     "execution_count": 6,
     "metadata": {},
     "output_type": "execute_result"
    }
   ],
   "source": [
    "bele[0]"
   ]
  },
  {
   "cell_type": "code",
   "execution_count": 7,
   "id": "ccaf1965-5008-4d09-b840-09c261ed84c8",
   "metadata": {},
   "outputs": [],
   "source": [
    "records = []\n",
    "for sample in bele:\n",
    "    new_choices = [sample['mc_answer1'], sample['mc_answer2'], sample['mc_answer3'], sample['mc_answer4']]\n",
    "    record = {\n",
    "        'id': \"\",\n",
    "        'paragraph': sample['flores_passage'],\n",
    "        'problems': str({'question': sample['question'], 'choices': new_choices, 'answer': int(sample['correct_answer_num'])}),\n",
    "        \"question_plus\": None,\n",
    "    }\n",
    "    records.append(record)"
   ]
  },
  {
   "cell_type": "code",
   "execution_count": 8,
   "id": "ef7d3614-2786-49d7-b9a9-9f9b42362ce9",
   "metadata": {},
   "outputs": [],
   "source": [
    "bele_train = pd.DataFrame(records)"
   ]
  },
  {
   "cell_type": "code",
   "execution_count": 9,
   "id": "d469ab75-3a81-4506-b5e1-064cf57df769",
   "metadata": {},
   "outputs": [
    {
     "data": {
      "text/html": [
       "<div>\n",
       "<style scoped>\n",
       "    .dataframe tbody tr th:only-of-type {\n",
       "        vertical-align: middle;\n",
       "    }\n",
       "\n",
       "    .dataframe tbody tr th {\n",
       "        vertical-align: top;\n",
       "    }\n",
       "\n",
       "    .dataframe thead th {\n",
       "        text-align: right;\n",
       "    }\n",
       "</style>\n",
       "<table border=\"1\" class=\"dataframe\">\n",
       "  <thead>\n",
       "    <tr style=\"text-align: right;\">\n",
       "      <th></th>\n",
       "      <th>id</th>\n",
       "      <th>paragraph</th>\n",
       "      <th>problems</th>\n",
       "      <th>question_plus</th>\n",
       "    </tr>\n",
       "  </thead>\n",
       "  <tbody>\n",
       "    <tr>\n",
       "      <th>0</th>\n",
       "      <td></td>\n",
       "      <td>2차 세계 대전에서 독일은 공통의 적이었고 이는 소련과 미국의 협력으로 이어졌습니다...</td>\n",
       "      <td>{'question': '지문에 따르면, 다음 중 소련과 미국 간의 관계에 영향을 ...</td>\n",
       "      <td>None</td>\n",
       "    </tr>\n",
       "    <tr>\n",
       "      <th>1</th>\n",
       "      <td></td>\n",
       "      <td>신경계는 몸 전체에 신경 신호를 보내서 혈류가 방해받지 않도록 하여 항상성을 유지한...</td>\n",
       "      <td>{'question': '몸 전체에 신경 자극을 보내는 목적에 관한 다음의 설명 중...</td>\n",
       "      <td>None</td>\n",
       "    </tr>\n",
       "    <tr>\n",
       "      <th>2</th>\n",
       "      <td></td>\n",
       "      <td>\"기자의 대 피라미드는 현재까지 존재하는 유일한 세계 7대 불가사의 중 하나이다. ...</td>\n",
       "      <td>{'question': '기자 고원(Giza Plateau)에서는 무엇을 볼 수 있...</td>\n",
       "      <td>None</td>\n",
       "    </tr>\n",
       "    <tr>\n",
       "      <th>3</th>\n",
       "      <td></td>\n",
       "      <td>\"기자의 대 피라미드는 현재까지 존재하는 유일한 세계 7대 불가사의 중 하나이다. ...</td>\n",
       "      <td>{'question': '대 피라미드의 목적은 무엇이었는가?', 'choices':...</td>\n",
       "      <td>None</td>\n",
       "    </tr>\n",
       "    <tr>\n",
       "      <th>4</th>\n",
       "      <td></td>\n",
       "      <td>에베소의 아르테미스 신전은 기원전 356년 7월 21일에 헤로스트라투스가 저지른 방...</td>\n",
       "      <td>{'question': '신전을 파괴한 방화범에 대한 우리의 지식에 책임이 있는 사...</td>\n",
       "      <td>None</td>\n",
       "    </tr>\n",
       "    <tr>\n",
       "      <th>...</th>\n",
       "      <td>...</td>\n",
       "      <td>...</td>\n",
       "      <td>...</td>\n",
       "      <td>...</td>\n",
       "    </tr>\n",
       "    <tr>\n",
       "      <th>895</th>\n",
       "      <td></td>\n",
       "      <td>프로젝트 기반 학습은 학습을 더 쉽고 더 흥미롭게 만들고 스캐폴딩은 한 걸음 더 나...</td>\n",
       "      <td>{'question': '지문의 정보에 따르면, 다음 중 비계의 예가 아닌 것은 무...</td>\n",
       "      <td>None</td>\n",
       "    </tr>\n",
       "    <tr>\n",
       "      <th>896</th>\n",
       "      <td></td>\n",
       "      <td>프로젝트 기반 학습은 학습을 더 쉽고 더 흥미롭게 만들고 스캐폴딩은 한 걸음 더 나...</td>\n",
       "      <td>{'question': '비계의 개념에 관한 다음의 설명 중 정확하지 않은 것은 무...</td>\n",
       "      <td>None</td>\n",
       "    </tr>\n",
       "    <tr>\n",
       "      <th>897</th>\n",
       "      <td></td>\n",
       "      <td>마이스페이스는 미국에서 세 번째로 인기가 많은 웹사이트이며, 현재 5천4백만 개의 ...</td>\n",
       "      <td>{'question': '지문에 따르면, 읽기에 어려움을 겪는 학생에게 도움이 될 ...</td>\n",
       "      <td>None</td>\n",
       "    </tr>\n",
       "    <tr>\n",
       "      <th>898</th>\n",
       "      <td></td>\n",
       "      <td>그러나 1956년 6월, 식량 부족과 임금 삭감에 항의하던 폴란드에서 일어난 폭동이...</td>\n",
       "      <td>{'question': '지문에 따르면, 다음 중 노동자 폭동에 대한 크뤼셰프의 대...</td>\n",
       "      <td>None</td>\n",
       "    </tr>\n",
       "    <tr>\n",
       "      <th>899</th>\n",
       "      <td></td>\n",
       "      <td>그러나 1956년 6월, 식량 부족과 임금 삭감에 항의하던 폴란드에서 일어난 폭동이...</td>\n",
       "      <td>{'question': '다음 중 폴란드에서 발생한 폭동의 원인이 아닌 것은 무엇입...</td>\n",
       "      <td>None</td>\n",
       "    </tr>\n",
       "  </tbody>\n",
       "</table>\n",
       "<p>900 rows × 4 columns</p>\n",
       "</div>"
      ],
      "text/plain": [
       "    id                                          paragraph  \\\n",
       "0       2차 세계 대전에서 독일은 공통의 적이었고 이는 소련과 미국의 협력으로 이어졌습니다...   \n",
       "1       신경계는 몸 전체에 신경 신호를 보내서 혈류가 방해받지 않도록 하여 항상성을 유지한...   \n",
       "2       \"기자의 대 피라미드는 현재까지 존재하는 유일한 세계 7대 불가사의 중 하나이다. ...   \n",
       "3       \"기자의 대 피라미드는 현재까지 존재하는 유일한 세계 7대 불가사의 중 하나이다. ...   \n",
       "4       에베소의 아르테미스 신전은 기원전 356년 7월 21일에 헤로스트라투스가 저지른 방...   \n",
       "..  ..                                                ...   \n",
       "895     프로젝트 기반 학습은 학습을 더 쉽고 더 흥미롭게 만들고 스캐폴딩은 한 걸음 더 나...   \n",
       "896     프로젝트 기반 학습은 학습을 더 쉽고 더 흥미롭게 만들고 스캐폴딩은 한 걸음 더 나...   \n",
       "897     마이스페이스는 미국에서 세 번째로 인기가 많은 웹사이트이며, 현재 5천4백만 개의 ...   \n",
       "898     그러나 1956년 6월, 식량 부족과 임금 삭감에 항의하던 폴란드에서 일어난 폭동이...   \n",
       "899     그러나 1956년 6월, 식량 부족과 임금 삭감에 항의하던 폴란드에서 일어난 폭동이...   \n",
       "\n",
       "                                              problems question_plus  \n",
       "0    {'question': '지문에 따르면, 다음 중 소련과 미국 간의 관계에 영향을 ...          None  \n",
       "1    {'question': '몸 전체에 신경 자극을 보내는 목적에 관한 다음의 설명 중...          None  \n",
       "2    {'question': '기자 고원(Giza Plateau)에서는 무엇을 볼 수 있...          None  \n",
       "3    {'question': '대 피라미드의 목적은 무엇이었는가?', 'choices':...          None  \n",
       "4    {'question': '신전을 파괴한 방화범에 대한 우리의 지식에 책임이 있는 사...          None  \n",
       "..                                                 ...           ...  \n",
       "895  {'question': '지문의 정보에 따르면, 다음 중 비계의 예가 아닌 것은 무...          None  \n",
       "896  {'question': '비계의 개념에 관한 다음의 설명 중 정확하지 않은 것은 무...          None  \n",
       "897  {'question': '지문에 따르면, 읽기에 어려움을 겪는 학생에게 도움이 될 ...          None  \n",
       "898  {'question': '지문에 따르면, 다음 중 노동자 폭동에 대한 크뤼셰프의 대...          None  \n",
       "899  {'question': '다음 중 폴란드에서 발생한 폭동의 원인이 아닌 것은 무엇입...          None  \n",
       "\n",
       "[900 rows x 4 columns]"
      ]
     },
     "execution_count": 9,
     "metadata": {},
     "output_type": "execute_result"
    }
   ],
   "source": [
    "bele_train"
   ]
  },
  {
   "cell_type": "code",
   "execution_count": 10,
   "id": "6de77773-1b64-4981-9ba9-2acfded76e4b",
   "metadata": {},
   "outputs": [],
   "source": [
    "bele_train.to_csv('bele_train.csv', index=False)"
   ]
  },
  {
   "cell_type": "markdown",
   "id": "89b8bf3f-73d0-427b-97b0-9ec4ba0a3ba9",
   "metadata": {},
   "source": [
    "# 아래서부터는 무시"
   ]
  },
  {
   "cell_type": "code",
   "execution_count": 11,
   "id": "0b742dc5-e82f-4978-98e0-3b1ae82edc50",
   "metadata": {},
   "outputs": [],
   "source": [
    "df1 = pd.read_csv('data/combined_cleaned_org.csv')"
   ]
  },
  {
   "cell_type": "code",
   "execution_count": 12,
   "id": "201b64fc-b57f-492c-831f-822f6d2a97f4",
   "metadata": {},
   "outputs": [],
   "source": [
    "df1_train = df1.iloc[:-201]\n",
    "df1_valid = df1.iloc[-201:]"
   ]
  },
  {
   "cell_type": "code",
   "execution_count": 13,
   "id": "d9110420-8ef4-428e-a1a1-ac2f8ef516b9",
   "metadata": {},
   "outputs": [],
   "source": [
    "combined_clean_bele = pd.concat([df1_train, bele_train, df1_valid], ignore_index=True)"
   ]
  },
  {
   "cell_type": "code",
   "execution_count": 14,
   "id": "f281942e-7770-43c1-aa7e-e62044e1bcb8",
   "metadata": {},
   "outputs": [],
   "source": [
    "combined_clean_bele.to_csv('combined_clean_bele.csv', index=False)"
   ]
  },
  {
   "cell_type": "code",
   "execution_count": 15,
   "id": "1bda20ae-d09b-4a3f-bdc3-ed32b532857f",
   "metadata": {},
   "outputs": [
    {
     "data": {
      "text/plain": [
       "2903"
      ]
     },
     "execution_count": 15,
     "metadata": {},
     "output_type": "execute_result"
    }
   ],
   "source": [
    "len(combined_clean_bele)"
   ]
  },
  {
   "cell_type": "code",
   "execution_count": 16,
   "id": "e4e4d4ab-cb73-491e-9c4e-4cb10ba42df5",
   "metadata": {},
   "outputs": [
    {
     "data": {
      "text/plain": [
       "2702"
      ]
     },
     "execution_count": 16,
     "metadata": {},
     "output_type": "execute_result"
    }
   ],
   "source": [
    "len(df1_train) + len(bele_train)"
   ]
  },
  {
   "cell_type": "code",
   "execution_count": null,
   "id": "155e3bfb-bb44-45d1-a86c-7913210ff2ab",
   "metadata": {},
   "outputs": [],
   "source": []
  }
 ],
 "metadata": {
  "kernelspec": {
   "display_name": "junhan",
   "language": "python",
   "name": "junhan"
  },
  "language_info": {
   "codemirror_mode": {
    "name": "ipython",
    "version": 3
   },
   "file_extension": ".py",
   "mimetype": "text/x-python",
   "name": "python",
   "nbconvert_exporter": "python",
   "pygments_lexer": "ipython3",
   "version": "3.8.20"
  }
 },
 "nbformat": 4,
 "nbformat_minor": 5
}
