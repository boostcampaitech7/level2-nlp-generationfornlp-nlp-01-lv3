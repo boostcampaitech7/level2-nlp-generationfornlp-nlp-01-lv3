{
 "cells": [
  {
   "cell_type": "code",
   "execution_count": 1,
   "id": "73eabefb-72ab-457c-a8be-93a94456f9ed",
   "metadata": {},
   "outputs": [],
   "source": [
    "import pandas as pd\n",
    "from datasets import load_dataset, concatenate_datasets"
   ]
  },
  {
   "cell_type": "code",
   "execution_count": 3,
   "id": "2fba5523-4672-43f8-bd9f-5e80c401860d",
   "metadata": {},
   "outputs": [
    {
     "data": {
      "application/vnd.jupyter.widget-view+json": {
       "model_id": "1569d39ca7834bbeba8930850714edf6",
       "version_major": 2,
       "version_minor": 0
      },
      "text/plain": [
       "README.md:   0%|          | 0.00/5.03k [00:00<?, ?B/s]"
      ]
     },
     "metadata": {},
     "output_type": "display_data"
    },
    {
     "data": {
      "application/vnd.jupyter.widget-view+json": {
       "model_id": "42ba2fa5df1b4dd9a87a4582430f7001",
       "version_major": 2,
       "version_minor": 0
      },
      "text/plain": [
       "Resolving data files:   0%|          | 0/26 [00:00<?, ?it/s]"
      ]
     },
     "metadata": {},
     "output_type": "display_data"
    },
    {
     "data": {
      "application/vnd.jupyter.widget-view+json": {
       "model_id": "451691b7a836418daa745b67f4b83632",
       "version_major": 2,
       "version_minor": 0
      },
      "text/plain": [
       "Downloading data:   0%|          | 0/26 [00:00<?, ?files/s]"
      ]
     },
     "metadata": {},
     "output_type": "display_data"
    },
    {
     "data": {
      "application/vnd.jupyter.widget-view+json": {
       "model_id": "2c959fe883e2418f928ff4d66676e42e",
       "version_major": 2,
       "version_minor": 0
      },
      "text/plain": [
       "(…)Culture/Korean Economy/Economy_Kedu.json:   0%|          | 0.00/1.44k [00:00<?, ?B/s]"
      ]
     },
     "metadata": {},
     "output_type": "display_data"
    },
    {
     "data": {
      "application/vnd.jupyter.widget-view+json": {
       "model_id": "42e8dde676524a0fa2ad044d86d3abba",
       "version_major": 2,
       "version_minor": 0
      },
      "text/plain": [
       "(…)ure/Korean Geography/Geography_Kedu.json:   0%|          | 0.00/4.66k [00:00<?, ?B/s]"
      ]
     },
     "metadata": {},
     "output_type": "display_data"
    },
    {
     "data": {
      "application/vnd.jupyter.widget-view+json": {
       "model_id": "0f38762b8a454b66a9b6eea428221ca9",
       "version_major": 2,
       "version_minor": 0
      },
      "text/plain": [
       "(…)Culture/Korean Economy/Economy_KIIP.json:   0%|          | 0.00/27.1k [00:00<?, ?B/s]"
      ]
     },
     "metadata": {},
     "output_type": "display_data"
    },
    {
     "data": {
      "application/vnd.jupyter.widget-view+json": {
       "model_id": "fb3982f385db45ffb9aaf6b0284a067a",
       "version_major": 2,
       "version_minor": 0
      },
      "text/plain": [
       "(…)ure/Korean Geography/Geography_CSAT.json:   0%|          | 0.00/40.0k [00:00<?, ?B/s]"
      ]
     },
     "metadata": {},
     "output_type": "display_data"
    },
    {
     "data": {
      "application/vnd.jupyter.widget-view+json": {
       "model_id": "63212bc5b6cc40f5b920e22b1e5aac31",
       "version_major": 2,
       "version_minor": 0
      },
      "text/plain": [
       "(…)lture/Korean Politics/Politics_Kedu.json:   0%|          | 0.00/3.17k [00:00<?, ?B/s]"
      ]
     },
     "metadata": {},
     "output_type": "display_data"
    },
    {
     "data": {
      "application/vnd.jupyter.widget-view+json": {
       "model_id": "04a6645554344577a2f07b35d160b60d",
       "version_major": 2,
       "version_minor": 0
      },
      "text/plain": [
       "(…)ure/Korean Geography/Geography_KIIP.json:   0%|          | 0.00/37.7k [00:00<?, ?B/s]"
      ]
     },
     "metadata": {},
     "output_type": "display_data"
    },
    {
     "data": {
      "application/vnd.jupyter.widget-view+json": {
       "model_id": "8a150fe2d4f54ac08dface44705ddb00",
       "version_major": 2,
       "version_minor": 0
      },
      "text/plain": [
       "(…)Culture/Korean Society/Society_Kedu.json:   0%|          | 0.00/16.0k [00:00<?, ?B/s]"
      ]
     },
     "metadata": {},
     "output_type": "display_data"
    },
    {
     "data": {
      "application/vnd.jupyter.widget-view+json": {
       "model_id": "ccd7ca6acf384b15b22ac1c3d21c2f99",
       "version_major": 2,
       "version_minor": 0
      },
      "text/plain": [
       "(…)/Culture/Korean History/History_KHB.json:   0%|          | 0.00/32.6k [00:00<?, ?B/s]"
      ]
     },
     "metadata": {},
     "output_type": "display_data"
    },
    {
     "data": {
      "application/vnd.jupyter.widget-view+json": {
       "model_id": "1889dc01606b4ad49326b078584911e7",
       "version_major": 2,
       "version_minor": 0
      },
      "text/plain": [
       "(…)Culture/Korean History/History_Kedu.json:   0%|          | 0.00/24.4k [00:00<?, ?B/s]"
      ]
     },
     "metadata": {},
     "output_type": "display_data"
    },
    {
     "data": {
      "application/vnd.jupyter.widget-view+json": {
       "model_id": "9300762ad47841149439852193f85600",
       "version_major": 2,
       "version_minor": 0
      },
      "text/plain": [
       "Dataset/Culture/Korean Law/Law_PSAT.json:   0%|          | 0.00/216k [00:00<?, ?B/s]"
      ]
     },
     "metadata": {},
     "output_type": "display_data"
    },
    {
     "data": {
      "application/vnd.jupyter.widget-view+json": {
       "model_id": "f826cba8a3e8453eb2edd72ec73a3e0d",
       "version_major": 2,
       "version_minor": 0
      },
      "text/plain": [
       "(…)lture/Korean Politics/Politics_KIIP.json:   0%|          | 0.00/36.0k [00:00<?, ?B/s]"
      ]
     },
     "metadata": {},
     "output_type": "display_data"
    },
    {
     "data": {
      "application/vnd.jupyter.widget-view+json": {
       "model_id": "92ea0379f6c049f0a858543177a0a588",
       "version_major": 2,
       "version_minor": 0
      },
      "text/plain": [
       "(…)Culture/Korean Popular/Popular_KIIP.json:   0%|          | 0.00/12.6k [00:00<?, ?B/s]"
      ]
     },
     "metadata": {},
     "output_type": "display_data"
    },
    {
     "data": {
      "application/vnd.jupyter.widget-view+json": {
       "model_id": "6f084893a4184404a5b3015148680f2c",
       "version_major": 2,
       "version_minor": 0
      },
      "text/plain": [
       "Dataset/Culture/Korean Law/Law_KIIP.json:   0%|          | 0.00/23.7k [00:00<?, ?B/s]"
      ]
     },
     "metadata": {},
     "output_type": "display_data"
    },
    {
     "data": {
      "application/vnd.jupyter.widget-view+json": {
       "model_id": "cd5507df87ab41bc94739c614b4cef46",
       "version_major": 2,
       "version_minor": 0
      },
      "text/plain": [
       "(…)Culture/Korean Society/Society_KIIP.json:   0%|          | 0.00/132k [00:00<?, ?B/s]"
      ]
     },
     "metadata": {},
     "output_type": "display_data"
    },
    {
     "data": {
      "application/vnd.jupyter.widget-view+json": {
       "model_id": "24d2de6670004f61ba92a5714a449a6c",
       "version_major": 2,
       "version_minor": 0
      },
      "text/plain": [
       "(…)/Culture/Korean History/History_PSE.json:   0%|          | 0.00/181k [00:00<?, ?B/s]"
      ]
     },
     "metadata": {},
     "output_type": "display_data"
    },
    {
     "data": {
      "application/vnd.jupyter.widget-view+json": {
       "model_id": "48a3dd1598f54ec6b85c68f8c24443d2",
       "version_major": 2,
       "version_minor": 0
      },
      "text/plain": [
       "(…)Culture/Korean Popular/Popular_Kedu.json:   0%|          | 0.00/8.85k [00:00<?, ?B/s]"
      ]
     },
     "metadata": {},
     "output_type": "display_data"
    },
    {
     "data": {
      "application/vnd.jupyter.widget-view+json": {
       "model_id": "ce1a4bba73344609a6fc015149746c26",
       "version_major": 2,
       "version_minor": 0
      },
      "text/plain": [
       "(…)ure/Korean Tradition/Tradition_KIIP.json:   0%|          | 0.00/73.3k [00:00<?, ?B/s]"
      ]
     },
     "metadata": {},
     "output_type": "display_data"
    },
    {
     "data": {
      "application/vnd.jupyter.widget-view+json": {
       "model_id": "2ba1109f3f1349a5bef6223ebbc70fa2",
       "version_major": 2,
       "version_minor": 0
      },
      "text/plain": [
       "(…)Language/Functional/Functional_CSAT.json:   0%|          | 0.00/420k [00:00<?, ?B/s]"
      ]
     },
     "metadata": {},
     "output_type": "display_data"
    },
    {
     "data": {
      "application/vnd.jupyter.widget-view+json": {
       "model_id": "9627a7cf3ac7403a9de2ce3484b6a9e2",
       "version_major": 2,
       "version_minor": 0
      },
      "text/plain": [
       "(…)ure/Korean Tradition/Tradition_Kedu.json:   0%|          | 0.00/35.2k [00:00<?, ?B/s]"
      ]
     },
     "metadata": {},
     "output_type": "display_data"
    },
    {
     "data": {
      "application/vnd.jupyter.widget-view+json": {
       "model_id": "ae6dc7347aaf4367aaf07abb32cfb6a4",
       "version_major": 2,
       "version_minor": 0
      },
      "text/plain": [
       "(…)Language/Functional/Functional_Kedu.json:   0%|          | 0.00/3.58k [00:00<?, ?B/s]"
      ]
     },
     "metadata": {},
     "output_type": "display_data"
    },
    {
     "data": {
      "application/vnd.jupyter.widget-view+json": {
       "model_id": "663b11f6928e4cccbfb01757372a2a2f",
       "version_major": 2,
       "version_minor": 0
      },
      "text/plain": [
       "(…)/Language/Functional/Functional_PSE.json:   0%|          | 0.00/24.4k [00:00<?, ?B/s]"
      ]
     },
     "metadata": {},
     "output_type": "display_data"
    },
    {
     "data": {
      "application/vnd.jupyter.widget-view+json": {
       "model_id": "0917d3754aa541a2b7220634790a18d1",
       "version_major": 2,
       "version_minor": 0
      },
      "text/plain": [
       "(…)taset/Language/Grammar/Grammar_CSAT.json:   0%|          | 0.00/77.8k [00:00<?, ?B/s]"
      ]
     },
     "metadata": {},
     "output_type": "display_data"
    },
    {
     "data": {
      "application/vnd.jupyter.widget-view+json": {
       "model_id": "46f6e827135742e88fbbf7a67e61ad63",
       "version_major": 2,
       "version_minor": 0
      },
      "text/plain": [
       "(…)aset/Language/Grammar/Grammar_TOPIK.json:   0%|          | 0.00/8.10k [00:00<?, ?B/s]"
      ]
     },
     "metadata": {},
     "output_type": "display_data"
    },
    {
     "data": {
      "application/vnd.jupyter.widget-view+json": {
       "model_id": "42f0397b51964c1cb6cc7a10bbb54928",
       "version_major": 2,
       "version_minor": 0
      },
      "text/plain": [
       "(…)taset/Language/Grammar/Grammar_Kedu.json:   0%|          | 0.00/90.7k [00:00<?, ?B/s]"
      ]
     },
     "metadata": {},
     "output_type": "display_data"
    },
    {
     "data": {
      "application/vnd.jupyter.widget-view+json": {
       "model_id": "325b682f24af4a2db0b96f5a72b6d8d4",
       "version_major": 2,
       "version_minor": 0
      },
      "text/plain": [
       "(…)aset/Language/Textual/Textual_TOPIK.json:   0%|          | 0.00/226k [00:00<?, ?B/s]"
      ]
     },
     "metadata": {},
     "output_type": "display_data"
    },
    {
     "data": {
      "application/vnd.jupyter.widget-view+json": {
       "model_id": "f88302b41a784b1b9a737922fab7f02e",
       "version_major": 2,
       "version_minor": 0
      },
      "text/plain": [
       "(…)taset/Language/Textual/Textual_CSAT.json:   0%|          | 0.00/365k [00:00<?, ?B/s]"
      ]
     },
     "metadata": {},
     "output_type": "display_data"
    },
    {
     "data": {
      "application/vnd.jupyter.widget-view+json": {
       "model_id": "b941a6a4d0f04260beef64f737a5c0ec",
       "version_major": 2,
       "version_minor": 0
      },
      "text/plain": [
       "Generating train split:   0%|          | 0/1995 [00:00<?, ? examples/s]"
      ]
     },
     "metadata": {},
     "output_type": "display_data"
    }
   ],
   "source": [
    "EunsuKim = load_dataset(\"EunsuKim/CLIcK\")"
   ]
  },
  {
   "cell_type": "code",
   "execution_count": 4,
   "id": "fe4a3cf8-fa2c-4182-b87d-8e814bb3faef",
   "metadata": {},
   "outputs": [
    {
     "data": {
      "text/plain": [
       "DatasetDict({\n",
       "    train: Dataset({\n",
       "        features: ['id', 'paragraph', 'question', 'choices', 'answer'],\n",
       "        num_rows: 1995\n",
       "    })\n",
       "})"
      ]
     },
     "execution_count": 4,
     "metadata": {},
     "output_type": "execute_result"
    }
   ],
   "source": [
    "EunsuKim"
   ]
  },
  {
   "cell_type": "code",
   "execution_count": 5,
   "id": "7012ebd9-51d2-4ea2-b8ef-5261d7cd7b4f",
   "metadata": {},
   "outputs": [],
   "source": [
    "a = EunsuKim['train'].to_pandas()"
   ]
  },
  {
   "cell_type": "code",
   "execution_count": 6,
   "id": "1e1759c3-829c-4717-8b97-1b7be09fa775",
   "metadata": {},
   "outputs": [
    {
     "data": {
      "text/html": [
       "<div>\n",
       "<style scoped>\n",
       "    .dataframe tbody tr th:only-of-type {\n",
       "        vertical-align: middle;\n",
       "    }\n",
       "\n",
       "    .dataframe tbody tr th {\n",
       "        vertical-align: top;\n",
       "    }\n",
       "\n",
       "    .dataframe thead th {\n",
       "        text-align: right;\n",
       "    }\n",
       "</style>\n",
       "<table border=\"1\" class=\"dataframe\">\n",
       "  <thead>\n",
       "    <tr style=\"text-align: right;\">\n",
       "      <th></th>\n",
       "      <th>id</th>\n",
       "      <th>paragraph</th>\n",
       "      <th>question</th>\n",
       "      <th>choices</th>\n",
       "      <th>answer</th>\n",
       "    </tr>\n",
       "  </thead>\n",
       "  <tbody>\n",
       "    <tr>\n",
       "      <th>0</th>\n",
       "      <td>KIIP_economy_1</td>\n",
       "      <td></td>\n",
       "      <td>다음은 한국 사회의 경제에 대한 문제이다.\\n한국이 외환위기를 완전히 극복한 년도는...</td>\n",
       "      <td>[1999년, 2000년, 2001년, 2002년]</td>\n",
       "      <td>2001년</td>\n",
       "    </tr>\n",
       "    <tr>\n",
       "      <th>1</th>\n",
       "      <td>KIIP_economy_2</td>\n",
       "      <td></td>\n",
       "      <td>다음은 한국 사회의 경제에 대한 문제이다.\\n1960년 한국의 1인당 국민총소득은 ...</td>\n",
       "      <td>[79달러, 800달러, 8,000달러, 80,000달러]</td>\n",
       "      <td>79달러</td>\n",
       "    </tr>\n",
       "    <tr>\n",
       "      <th>2</th>\n",
       "      <td>KIIP_economy_3</td>\n",
       "      <td></td>\n",
       "      <td>다음은 한국 사회의 경제에 대한 문제이다.\\n한국이 외환위기를 겪은 년도는 언제인가?</td>\n",
       "      <td>[1995년, 1996년, 1997년, 1998년]</td>\n",
       "      <td>1997년</td>\n",
       "    </tr>\n",
       "  </tbody>\n",
       "</table>\n",
       "</div>"
      ],
      "text/plain": [
       "               id paragraph  \\\n",
       "0  KIIP_economy_1             \n",
       "1  KIIP_economy_2             \n",
       "2  KIIP_economy_3             \n",
       "\n",
       "                                            question  \\\n",
       "0  다음은 한국 사회의 경제에 대한 문제이다.\\n한국이 외환위기를 완전히 극복한 년도는...   \n",
       "1  다음은 한국 사회의 경제에 대한 문제이다.\\n1960년 한국의 1인당 국민총소득은 ...   \n",
       "2    다음은 한국 사회의 경제에 대한 문제이다.\\n한국이 외환위기를 겪은 년도는 언제인가?   \n",
       "\n",
       "                            choices answer  \n",
       "0      [1999년, 2000년, 2001년, 2002년]  2001년  \n",
       "1  [79달러, 800달러, 8,000달러, 80,000달러]   79달러  \n",
       "2      [1995년, 1996년, 1997년, 1998년]  1997년  "
      ]
     },
     "execution_count": 6,
     "metadata": {},
     "output_type": "execute_result"
    }
   ],
   "source": [
    "a.head(3)"
   ]
  },
  {
   "cell_type": "code",
   "execution_count": 13,
   "id": "e2d363c1-cb18-415b-88a8-5a1638a46d4d",
   "metadata": {},
   "outputs": [
    {
     "data": {
      "text/html": [
       "<div>\n",
       "<style scoped>\n",
       "    .dataframe tbody tr th:only-of-type {\n",
       "        vertical-align: middle;\n",
       "    }\n",
       "\n",
       "    .dataframe tbody tr th {\n",
       "        vertical-align: top;\n",
       "    }\n",
       "\n",
       "    .dataframe thead th {\n",
       "        text-align: right;\n",
       "    }\n",
       "</style>\n",
       "<table border=\"1\" class=\"dataframe\">\n",
       "  <thead>\n",
       "    <tr style=\"text-align: right;\">\n",
       "      <th></th>\n",
       "      <th>id</th>\n",
       "      <th>paragraph</th>\n",
       "      <th>question</th>\n",
       "      <th>choices</th>\n",
       "      <th>answer</th>\n",
       "    </tr>\n",
       "  </thead>\n",
       "  <tbody>\n",
       "    <tr>\n",
       "      <th>1348</th>\n",
       "      <td>CSAT_korean_07_9</td>\n",
       "      <td>‘환경 영향 평가 제도’에 관한 글을 쓰기 위해 개요를 작성 하고 서론을 써 보았다.</td>\n",
       "      <td>개요의 초고를 작성하고 세 가지 글감을 접하였다. 글감을 모두 활용하여 개요를 보완...</td>\n",
       "      <td>[‘Ⅱ-1’에 ‘선진국과 비교한 우리나라의 환경 영향 평가 제도 의 성과’를 제시한...</td>\n",
       "      <td>‘Ⅱ-2-가’에 ‘환경 영향 평가의 객관성 부족’이라는 하위 항 목을 설정한다.</td>\n",
       "    </tr>\n",
       "    <tr>\n",
       "      <th>1349</th>\n",
       "      <td>CSAT_korean_07_10</td>\n",
       "      <td>‘환경 영향 평가 제도’에 관한 글을 쓰기 위해 개요를 작성 하고 서론을 써 보았다.</td>\n",
       "      <td>&lt;보기&gt;는 서론의 일부이다. 고치기 위한 의견으로 적절하지 않은 것은? \\n&lt;보기&gt;...</td>\n",
       "      <td>[(ㄱ)은 문장 성분의 호응 관계를 고려하여 ‘마련하는 수단이다’로 고쳐야겠어., ...</td>\n",
       "      <td>(ㄴ)은 문장 내의 연결 관계가 어색하므로 ‘자연 생태계의 파괴’로 고쳐야겠어.</td>\n",
       "    </tr>\n",
       "    <tr>\n",
       "      <th>1350</th>\n",
       "      <td>CSAT_korean_06_6</td>\n",
       "      <td>들려주는 내용을 잘 듣고 번과 번의 두 물음에 답하시오 \\n진행자 : 여러분 안녕하...</td>\n",
       "      <td>방송에서 이어질 노래로 가장 적절한 것은?</td>\n",
       "      <td>[등 굽어 못 간다  등 굽으면 길마  길마는 네 구멍  네 구멍은 시루  시루면 ...</td>\n",
       "      <td>등 굽어 못 간다  등 굽으면 길마  길마는 네 구멍  네 구멍은 시루  시루면 검지</td>\n",
       "    </tr>\n",
       "    <tr>\n",
       "      <th>1360</th>\n",
       "      <td>CSAT_korean_08_9</td>\n",
       "      <td>프로그램명 공공건물 벽화 그리기  제안 단체 :△△고등학교 미술반,\\n지역 문화 탐...</td>\n",
       "      <td>위 글을 고쳐 쓰기 위한 구상으로 적절하지 않은 것은?</td>\n",
       "      <td>[문맥으로 보아 (ㄱ)을 ‘방치한’으로 바꿔야겠군., 문장 간의 의미 관계를 고려하...</td>\n",
       "      <td>중복된 내용을 생략하려면 (ㄹ)을 ‘밑그림과 채색을 할 것’으로 바꿔야겠군.</td>\n",
       "    </tr>\n",
       "    <tr>\n",
       "      <th>1361</th>\n",
       "      <td>CSAT_korean_08_10</td>\n",
       "      <td>프로그램명 공공건물 벽화 그리기  제안 단체 :△△고등학교 미술반,\\n지역 문화 탐...</td>\n",
       "      <td>[A]에 넣을 표현으로 &lt;보기&gt;의 조건이 모두 충족된 것은?  \\n보기:    참여...</td>\n",
       "      <td>[우리 학생들은 최선을 다해 이 일을 추진하겠습니다. 주민 여러분께서도 관심을 갖고...</td>\n",
       "      <td>이 활동은 학생들에게 마을에 대한 자부심과 협동 정신을 심어 줍니다. 개선된 생활공...</td>\n",
       "    </tr>\n",
       "    <tr>\n",
       "      <th>...</th>\n",
       "      <td>...</td>\n",
       "      <td>...</td>\n",
       "      <td>...</td>\n",
       "      <td>...</td>\n",
       "      <td>...</td>\n",
       "    </tr>\n",
       "    <tr>\n",
       "      <th>1990</th>\n",
       "      <td>TK_2022_42</td>\n",
       "      <td>올해 서른두 살인 준은 어렸을 때부터 특출나게 뛰어난 재능이 없다는 점이 큰 불만이...</td>\n",
       "      <td>다음 글의 내용으로 알 수 있는 것을 고르십시오.</td>\n",
       "      <td>[준은 여행지에서 해 뜨는 방향을 한 번에 찾았다., 준의 부모님은 아들과 같은 능...</td>\n",
       "      <td>준은 여행지에서 해 뜨는 방향을 한 번에 찾았다.</td>\n",
       "    </tr>\n",
       "    <tr>\n",
       "      <th>1991</th>\n",
       "      <td>TK_2022_43</td>\n",
       "      <td>서양 역사에서는 15ㆍ16세기를 ‘위대한 발견의 시대’라고 부른다. 콜럼버스 처럼 ...</td>\n",
       "      <td>( )에 들어갈 말로 가장 알맞은 것을 고르십시오.</td>\n",
       "      <td>[값비싼 물건을 매매했기, 다양한 지도를 수집했기, 미지의 땅을 찾아 떠났기, 탐험...</td>\n",
       "      <td>미지의 땅을 찾아 떠났기</td>\n",
       "    </tr>\n",
       "    <tr>\n",
       "      <th>1992</th>\n",
       "      <td>TK_2022_44</td>\n",
       "      <td>서양 역사에서는 15ㆍ16세기를 ‘위대한 발견의 시대’라고 부른다. 콜럼버스 처럼 ...</td>\n",
       "      <td>다음 글의 주제로 가장 알맞은 것을 고르십시오.</td>\n",
       "      <td>[콜럼버스는 새로운 대륙을 개척하는 데 기여한 바가 크다., 신대륙 발견은 동방의 ...</td>\n",
       "      <td>유럽인들의 탐험은 항로를 만들어 세계를 연결시켰다는 데 의의가 있다.</td>\n",
       "    </tr>\n",
       "    <tr>\n",
       "      <th>1993</th>\n",
       "      <td>TK_2022_45</td>\n",
       "      <td>세계는 신에너지, 자동화, 우주여행 등이 주도하는 시대로 급속히 접어들고 있다. 세...</td>\n",
       "      <td>다음 글에 나타난 필자의 태도로 가장 알맞은 것을 고르십시오.</td>\n",
       "      <td>[과학 정책에 대한 정부의 지나친 개입을 경계하고 있다., 과학 기술 발전을 위해서...</td>\n",
       "      <td>과학 정책에 대한 정부의 지나친 개입을 경계하고 있다.</td>\n",
       "    </tr>\n",
       "    <tr>\n",
       "      <th>1994</th>\n",
       "      <td>TK_2022_46</td>\n",
       "      <td>세계는 신에너지, 자동화, 우주여행 등이 주도하는 시대로 급속히 접어들고 있다. 세...</td>\n",
       "      <td>다음 글의 내용과 같은 것을 고르십시오.</td>\n",
       "      <td>[많은 국가들이 신에너지 개발에 대한 투자를 줄이고 있다., 과학 정책이 빠르게 변...</td>\n",
       "      <td>정부가 우주 산업에 대한 규제를 풀어 성장한 민간 기업이 있다.</td>\n",
       "    </tr>\n",
       "  </tbody>\n",
       "</table>\n",
       "<p>353 rows × 5 columns</p>\n",
       "</div>"
      ],
      "text/plain": [
       "                     id                                          paragraph  \\\n",
       "1348   CSAT_korean_07_9    ‘환경 영향 평가 제도’에 관한 글을 쓰기 위해 개요를 작성 하고 서론을 써 보았다.   \n",
       "1349  CSAT_korean_07_10    ‘환경 영향 평가 제도’에 관한 글을 쓰기 위해 개요를 작성 하고 서론을 써 보았다.   \n",
       "1350   CSAT_korean_06_6  들려주는 내용을 잘 듣고 번과 번의 두 물음에 답하시오 \\n진행자 : 여러분 안녕하...   \n",
       "1360   CSAT_korean_08_9  프로그램명 공공건물 벽화 그리기  제안 단체 :△△고등학교 미술반,\\n지역 문화 탐...   \n",
       "1361  CSAT_korean_08_10  프로그램명 공공건물 벽화 그리기  제안 단체 :△△고등학교 미술반,\\n지역 문화 탐...   \n",
       "...                 ...                                                ...   \n",
       "1990         TK_2022_42  올해 서른두 살인 준은 어렸을 때부터 특출나게 뛰어난 재능이 없다는 점이 큰 불만이...   \n",
       "1991         TK_2022_43  서양 역사에서는 15ㆍ16세기를 ‘위대한 발견의 시대’라고 부른다. 콜럼버스 처럼 ...   \n",
       "1992         TK_2022_44  서양 역사에서는 15ㆍ16세기를 ‘위대한 발견의 시대’라고 부른다. 콜럼버스 처럼 ...   \n",
       "1993         TK_2022_45  세계는 신에너지, 자동화, 우주여행 등이 주도하는 시대로 급속히 접어들고 있다. 세...   \n",
       "1994         TK_2022_46  세계는 신에너지, 자동화, 우주여행 등이 주도하는 시대로 급속히 접어들고 있다. 세...   \n",
       "\n",
       "                                               question  \\\n",
       "1348  개요의 초고를 작성하고 세 가지 글감을 접하였다. 글감을 모두 활용하여 개요를 보완...   \n",
       "1349  <보기>는 서론의 일부이다. 고치기 위한 의견으로 적절하지 않은 것은? \\n<보기>...   \n",
       "1350                            방송에서 이어질 노래로 가장 적절한 것은?   \n",
       "1360                     위 글을 고쳐 쓰기 위한 구상으로 적절하지 않은 것은?   \n",
       "1361  [A]에 넣을 표현으로 <보기>의 조건이 모두 충족된 것은?  \\n보기:    참여...   \n",
       "...                                                 ...   \n",
       "1990                        다음 글의 내용으로 알 수 있는 것을 고르십시오.   \n",
       "1991                       ( )에 들어갈 말로 가장 알맞은 것을 고르십시오.   \n",
       "1992                         다음 글의 주제로 가장 알맞은 것을 고르십시오.   \n",
       "1993                 다음 글에 나타난 필자의 태도로 가장 알맞은 것을 고르십시오.   \n",
       "1994                             다음 글의 내용과 같은 것을 고르십시오.   \n",
       "\n",
       "                                                choices  \\\n",
       "1348  [‘Ⅱ-1’에 ‘선진국과 비교한 우리나라의 환경 영향 평가 제도 의 성과’를 제시한...   \n",
       "1349  [(ㄱ)은 문장 성분의 호응 관계를 고려하여 ‘마련하는 수단이다’로 고쳐야겠어., ...   \n",
       "1350  [등 굽어 못 간다  등 굽으면 길마  길마는 네 구멍  네 구멍은 시루  시루면 ...   \n",
       "1360  [문맥으로 보아 (ㄱ)을 ‘방치한’으로 바꿔야겠군., 문장 간의 의미 관계를 고려하...   \n",
       "1361  [우리 학생들은 최선을 다해 이 일을 추진하겠습니다. 주민 여러분께서도 관심을 갖고...   \n",
       "...                                                 ...   \n",
       "1990  [준은 여행지에서 해 뜨는 방향을 한 번에 찾았다., 준의 부모님은 아들과 같은 능...   \n",
       "1991  [값비싼 물건을 매매했기, 다양한 지도를 수집했기, 미지의 땅을 찾아 떠났기, 탐험...   \n",
       "1992  [콜럼버스는 새로운 대륙을 개척하는 데 기여한 바가 크다., 신대륙 발견은 동방의 ...   \n",
       "1993  [과학 정책에 대한 정부의 지나친 개입을 경계하고 있다., 과학 기술 발전을 위해서...   \n",
       "1994  [많은 국가들이 신에너지 개발에 대한 투자를 줄이고 있다., 과학 정책이 빠르게 변...   \n",
       "\n",
       "                                                 answer  \n",
       "1348       ‘Ⅱ-2-가’에 ‘환경 영향 평가의 객관성 부족’이라는 하위 항 목을 설정한다.  \n",
       "1349       (ㄴ)은 문장 내의 연결 관계가 어색하므로 ‘자연 생태계의 파괴’로 고쳐야겠어.  \n",
       "1350    등 굽어 못 간다  등 굽으면 길마  길마는 네 구멍  네 구멍은 시루  시루면 검지  \n",
       "1360         중복된 내용을 생략하려면 (ㄹ)을 ‘밑그림과 채색을 할 것’으로 바꿔야겠군.  \n",
       "1361  이 활동은 학생들에게 마을에 대한 자부심과 협동 정신을 심어 줍니다. 개선된 생활공...  \n",
       "...                                                 ...  \n",
       "1990                        준은 여행지에서 해 뜨는 방향을 한 번에 찾았다.  \n",
       "1991                                      미지의 땅을 찾아 떠났기  \n",
       "1992             유럽인들의 탐험은 항로를 만들어 세계를 연결시켰다는 데 의의가 있다.  \n",
       "1993                     과학 정책에 대한 정부의 지나친 개입을 경계하고 있다.  \n",
       "1994                정부가 우주 산업에 대한 규제를 풀어 성장한 민간 기업이 있다.  \n",
       "\n",
       "[353 rows x 5 columns]"
      ]
     },
     "execution_count": 13,
     "metadata": {},
     "output_type": "execute_result"
    }
   ],
   "source": [
    "a[a['paragraph'] != '']"
   ]
  },
  {
   "cell_type": "code",
   "execution_count": null,
   "id": "a0425a31-4914-4445-b731-b45a19b6a52f",
   "metadata": {},
   "outputs": [],
   "source": []
  },
  {
   "cell_type": "code",
   "execution_count": null,
   "id": "59bce2a2-0615-4ea7-a4be-4fc5fa7838fe",
   "metadata": {},
   "outputs": [],
   "source": []
  },
  {
   "cell_type": "code",
   "execution_count": null,
   "id": "947ed286-6776-4423-88bb-b7ee0cec5dc3",
   "metadata": {},
   "outputs": [],
   "source": []
  },
  {
   "cell_type": "code",
   "execution_count": 3,
   "id": "b23e0513-8ace-44c2-8b37-22ca681c1e7a",
   "metadata": {},
   "outputs": [
    {
     "data": {
      "text/plain": [
       "DatasetDict({\n",
       "    test: Dataset({\n",
       "        features: ['query', 'options', 'answer'],\n",
       "        num_rows: 176\n",
       "    })\n",
       "})"
      ]
     },
     "execution_count": 3,
     "metadata": {},
     "output_type": "execute_result"
    }
   ],
   "source": [
    "haerae_general"
   ]
  },
  {
   "cell_type": "code",
   "execution_count": 4,
   "id": "404f0b3a-5159-42fa-92d7-ac458838dd48",
   "metadata": {},
   "outputs": [
    {
     "data": {
      "text/plain": [
       "DatasetDict({\n",
       "    test: Dataset({\n",
       "        features: ['query', 'options', 'answer'],\n",
       "        num_rows: 188\n",
       "    })\n",
       "})"
      ]
     },
     "execution_count": 4,
     "metadata": {},
     "output_type": "execute_result"
    }
   ],
   "source": [
    "haerae_history"
   ]
  },
  {
   "cell_type": "code",
   "execution_count": 5,
   "id": "5d8bf04e-6dd9-4982-9df2-ded89309fd14",
   "metadata": {},
   "outputs": [],
   "source": [
    "haerae_general = haerae_general['test']\n",
    "haerae_history = haerae_history['test']"
   ]
  },
  {
   "cell_type": "code",
   "execution_count": 6,
   "id": "63a4c6a5-d04f-47d4-ba3a-7679cdf3c501",
   "metadata": {},
   "outputs": [
    {
     "data": {
      "text/plain": [
       "Dataset({\n",
       "    features: ['query', 'options', 'answer'],\n",
       "    num_rows: 364\n",
       "})"
      ]
     },
     "execution_count": 6,
     "metadata": {},
     "output_type": "execute_result"
    }
   ],
   "source": [
    "haerae = concatenate_datasets([haerae_general, haerae_history])\n",
    "haerae"
   ]
  },
  {
   "cell_type": "code",
   "execution_count": 12,
   "id": "0e01ceb6-d7f0-43b4-b318-c64e5794b23f",
   "metadata": {},
   "outputs": [
    {
     "data": {
      "text/plain": [
       "{'query': '다음 질문을 읽고 정답으로 가장 알맞은 것을 고르시요.\\n    \\n### 질문: \\n빈 칸에 들어갈 말로 알맞은 것을 고르시오.\\n### 참고:가 : 저는 어렸을 때 말이 정말 많은 [BLANK] 였어요. 나 : 정말요?\\n\\n### 선택지: \\n(A) 겁쟁이\\n(B) 멋쟁이\\n(C) 개구쟁이\\n(D) 대장장이\\n(E) 수다쟁이\\n\\n### 정답:',\n",
       " 'options': \"['겁쟁이', '멋쟁이', '개구쟁이', '대장장이', '수다쟁이']\",\n",
       " 'answer': '(E)'}"
      ]
     },
     "execution_count": 12,
     "metadata": {},
     "output_type": "execute_result"
    }
   ],
   "source": [
    "haerae_general[3]"
   ]
  },
  {
   "cell_type": "code",
   "execution_count": 16,
   "id": "153cfd9c-86dd-43c9-a982-979701b76ffa",
   "metadata": {},
   "outputs": [
    {
     "data": {
      "text/plain": [
       "{'query': '다음 질문을 읽고 정답으로 가장 알맞은 것을 고르시요.\\n    \\n### 질문: \\n동명 성왕인 주몽이 세운 나라의 이름은?\\n\\n### 선택지: \\n(A) 발해\\n(B) 신라\\n(C) 고구려\\n(D) 고려\\n(E) 백제\\n\\n### 정답:',\n",
       " 'options': \"['발해', '신라', '고구려', '고려', '백제']\",\n",
       " 'answer': '(C)'}"
      ]
     },
     "execution_count": 16,
     "metadata": {},
     "output_type": "execute_result"
    }
   ],
   "source": [
    "haerae_history[4]"
   ]
  },
  {
   "cell_type": "code",
   "execution_count": 5,
   "id": "4412845c-e721-4bbd-8bd5-f6712fd0ddb4",
   "metadata": {},
   "outputs": [
    {
     "data": {
      "text/plain": [
       "900"
      ]
     },
     "execution_count": 5,
     "metadata": {},
     "output_type": "execute_result"
    }
   ],
   "source": [
    "len(bele)"
   ]
  },
  {
   "cell_type": "code",
   "execution_count": 6,
   "id": "33e81878-28d5-4b1c-a73c-a023dab5f558",
   "metadata": {},
   "outputs": [
    {
     "data": {
      "text/plain": [
       "{'link': 'https://en.wikibooks.org/wiki/The_Cold_War/Introduction',\n",
       " 'question_number': 1,\n",
       " 'flores_passage': '2차 세계 대전에서 독일은 공통의 적이었고 이는 소련과 미국의 협력으로 이어졌습니다. 전쟁이 끝남과 함께 시스템, 변화 및 문화의 충돌은 여러 국가의 쇠락으로 이어졌습니다. 종전 2년이라는 세월이 흐르면서 이전의 동맹국들은 이제 적이 되었고 냉전이 시작되었다. 냉전은 이후 40년 동안 지속될 것이었고 아프리카에서 아시아 지역, 아프가니스탄, 쿠바, 그리고 다른 많은 지역의 전장에서 대리군들에 의한 실제 싸움이 될 것이었다.',\n",
       " 'question': '지문에 따르면, 다음 중 소련과 미국 간의 관계에 영향을 미치지 않은 것은 무엇인가?',\n",
       " 'mc_answer1': '문화적 차이',\n",
       " 'mc_answer2': '독일에 대한 의견',\n",
       " 'mc_answer3': '대조적인 프로세스',\n",
       " 'mc_answer4': '시스템에 대한 분쟁',\n",
       " 'correct_answer_num': '2',\n",
       " 'dialect': 'kor_Hang',\n",
       " 'ds': datetime.datetime(2023, 7, 21, 0, 0)}"
      ]
     },
     "execution_count": 6,
     "metadata": {},
     "output_type": "execute_result"
    }
   ],
   "source": [
    "bele[0]"
   ]
  },
  {
   "cell_type": "code",
   "execution_count": 7,
   "id": "ccaf1965-5008-4d09-b840-09c261ed84c8",
   "metadata": {},
   "outputs": [],
   "source": [
    "records = []\n",
    "for sample in bele:\n",
    "    new_choices = [sample['mc_answer1'], sample['mc_answer2'], sample['mc_answer3'], sample['mc_answer4']]\n",
    "    record = {\n",
    "        'id': \"\",\n",
    "        'paragraph': sample['flores_passage'],\n",
    "        'problems': str({'question': sample['question'], 'choices': new_choices, 'answer': int(sample['correct_answer_num'])}),\n",
    "        \"question_plus\": None,\n",
    "    }\n",
    "    records.append(record)"
   ]
  },
  {
   "cell_type": "code",
   "execution_count": 8,
   "id": "ef7d3614-2786-49d7-b9a9-9f9b42362ce9",
   "metadata": {},
   "outputs": [],
   "source": [
    "bele_train = pd.DataFrame(records)"
   ]
  },
  {
   "cell_type": "code",
   "execution_count": 9,
   "id": "d469ab75-3a81-4506-b5e1-064cf57df769",
   "metadata": {},
   "outputs": [
    {
     "data": {
      "text/html": [
       "<div>\n",
       "<style scoped>\n",
       "    .dataframe tbody tr th:only-of-type {\n",
       "        vertical-align: middle;\n",
       "    }\n",
       "\n",
       "    .dataframe tbody tr th {\n",
       "        vertical-align: top;\n",
       "    }\n",
       "\n",
       "    .dataframe thead th {\n",
       "        text-align: right;\n",
       "    }\n",
       "</style>\n",
       "<table border=\"1\" class=\"dataframe\">\n",
       "  <thead>\n",
       "    <tr style=\"text-align: right;\">\n",
       "      <th></th>\n",
       "      <th>id</th>\n",
       "      <th>paragraph</th>\n",
       "      <th>problems</th>\n",
       "      <th>question_plus</th>\n",
       "    </tr>\n",
       "  </thead>\n",
       "  <tbody>\n",
       "    <tr>\n",
       "      <th>0</th>\n",
       "      <td></td>\n",
       "      <td>2차 세계 대전에서 독일은 공통의 적이었고 이는 소련과 미국의 협력으로 이어졌습니다...</td>\n",
       "      <td>{'question': '지문에 따르면, 다음 중 소련과 미국 간의 관계에 영향을 ...</td>\n",
       "      <td>None</td>\n",
       "    </tr>\n",
       "    <tr>\n",
       "      <th>1</th>\n",
       "      <td></td>\n",
       "      <td>신경계는 몸 전체에 신경 신호를 보내서 혈류가 방해받지 않도록 하여 항상성을 유지한...</td>\n",
       "      <td>{'question': '몸 전체에 신경 자극을 보내는 목적에 관한 다음의 설명 중...</td>\n",
       "      <td>None</td>\n",
       "    </tr>\n",
       "    <tr>\n",
       "      <th>2</th>\n",
       "      <td></td>\n",
       "      <td>\"기자의 대 피라미드는 현재까지 존재하는 유일한 세계 7대 불가사의 중 하나이다. ...</td>\n",
       "      <td>{'question': '기자 고원(Giza Plateau)에서는 무엇을 볼 수 있...</td>\n",
       "      <td>None</td>\n",
       "    </tr>\n",
       "    <tr>\n",
       "      <th>3</th>\n",
       "      <td></td>\n",
       "      <td>\"기자의 대 피라미드는 현재까지 존재하는 유일한 세계 7대 불가사의 중 하나이다. ...</td>\n",
       "      <td>{'question': '대 피라미드의 목적은 무엇이었는가?', 'choices':...</td>\n",
       "      <td>None</td>\n",
       "    </tr>\n",
       "    <tr>\n",
       "      <th>4</th>\n",
       "      <td></td>\n",
       "      <td>에베소의 아르테미스 신전은 기원전 356년 7월 21일에 헤로스트라투스가 저지른 방...</td>\n",
       "      <td>{'question': '신전을 파괴한 방화범에 대한 우리의 지식에 책임이 있는 사...</td>\n",
       "      <td>None</td>\n",
       "    </tr>\n",
       "    <tr>\n",
       "      <th>...</th>\n",
       "      <td>...</td>\n",
       "      <td>...</td>\n",
       "      <td>...</td>\n",
       "      <td>...</td>\n",
       "    </tr>\n",
       "    <tr>\n",
       "      <th>895</th>\n",
       "      <td></td>\n",
       "      <td>프로젝트 기반 학습은 학습을 더 쉽고 더 흥미롭게 만들고 스캐폴딩은 한 걸음 더 나...</td>\n",
       "      <td>{'question': '지문의 정보에 따르면, 다음 중 비계의 예가 아닌 것은 무...</td>\n",
       "      <td>None</td>\n",
       "    </tr>\n",
       "    <tr>\n",
       "      <th>896</th>\n",
       "      <td></td>\n",
       "      <td>프로젝트 기반 학습은 학습을 더 쉽고 더 흥미롭게 만들고 스캐폴딩은 한 걸음 더 나...</td>\n",
       "      <td>{'question': '비계의 개념에 관한 다음의 설명 중 정확하지 않은 것은 무...</td>\n",
       "      <td>None</td>\n",
       "    </tr>\n",
       "    <tr>\n",
       "      <th>897</th>\n",
       "      <td></td>\n",
       "      <td>마이스페이스는 미국에서 세 번째로 인기가 많은 웹사이트이며, 현재 5천4백만 개의 ...</td>\n",
       "      <td>{'question': '지문에 따르면, 읽기에 어려움을 겪는 학생에게 도움이 될 ...</td>\n",
       "      <td>None</td>\n",
       "    </tr>\n",
       "    <tr>\n",
       "      <th>898</th>\n",
       "      <td></td>\n",
       "      <td>그러나 1956년 6월, 식량 부족과 임금 삭감에 항의하던 폴란드에서 일어난 폭동이...</td>\n",
       "      <td>{'question': '지문에 따르면, 다음 중 노동자 폭동에 대한 크뤼셰프의 대...</td>\n",
       "      <td>None</td>\n",
       "    </tr>\n",
       "    <tr>\n",
       "      <th>899</th>\n",
       "      <td></td>\n",
       "      <td>그러나 1956년 6월, 식량 부족과 임금 삭감에 항의하던 폴란드에서 일어난 폭동이...</td>\n",
       "      <td>{'question': '다음 중 폴란드에서 발생한 폭동의 원인이 아닌 것은 무엇입...</td>\n",
       "      <td>None</td>\n",
       "    </tr>\n",
       "  </tbody>\n",
       "</table>\n",
       "<p>900 rows × 4 columns</p>\n",
       "</div>"
      ],
      "text/plain": [
       "    id                                          paragraph  \\\n",
       "0       2차 세계 대전에서 독일은 공통의 적이었고 이는 소련과 미국의 협력으로 이어졌습니다...   \n",
       "1       신경계는 몸 전체에 신경 신호를 보내서 혈류가 방해받지 않도록 하여 항상성을 유지한...   \n",
       "2       \"기자의 대 피라미드는 현재까지 존재하는 유일한 세계 7대 불가사의 중 하나이다. ...   \n",
       "3       \"기자의 대 피라미드는 현재까지 존재하는 유일한 세계 7대 불가사의 중 하나이다. ...   \n",
       "4       에베소의 아르테미스 신전은 기원전 356년 7월 21일에 헤로스트라투스가 저지른 방...   \n",
       "..  ..                                                ...   \n",
       "895     프로젝트 기반 학습은 학습을 더 쉽고 더 흥미롭게 만들고 스캐폴딩은 한 걸음 더 나...   \n",
       "896     프로젝트 기반 학습은 학습을 더 쉽고 더 흥미롭게 만들고 스캐폴딩은 한 걸음 더 나...   \n",
       "897     마이스페이스는 미국에서 세 번째로 인기가 많은 웹사이트이며, 현재 5천4백만 개의 ...   \n",
       "898     그러나 1956년 6월, 식량 부족과 임금 삭감에 항의하던 폴란드에서 일어난 폭동이...   \n",
       "899     그러나 1956년 6월, 식량 부족과 임금 삭감에 항의하던 폴란드에서 일어난 폭동이...   \n",
       "\n",
       "                                              problems question_plus  \n",
       "0    {'question': '지문에 따르면, 다음 중 소련과 미국 간의 관계에 영향을 ...          None  \n",
       "1    {'question': '몸 전체에 신경 자극을 보내는 목적에 관한 다음의 설명 중...          None  \n",
       "2    {'question': '기자 고원(Giza Plateau)에서는 무엇을 볼 수 있...          None  \n",
       "3    {'question': '대 피라미드의 목적은 무엇이었는가?', 'choices':...          None  \n",
       "4    {'question': '신전을 파괴한 방화범에 대한 우리의 지식에 책임이 있는 사...          None  \n",
       "..                                                 ...           ...  \n",
       "895  {'question': '지문의 정보에 따르면, 다음 중 비계의 예가 아닌 것은 무...          None  \n",
       "896  {'question': '비계의 개념에 관한 다음의 설명 중 정확하지 않은 것은 무...          None  \n",
       "897  {'question': '지문에 따르면, 읽기에 어려움을 겪는 학생에게 도움이 될 ...          None  \n",
       "898  {'question': '지문에 따르면, 다음 중 노동자 폭동에 대한 크뤼셰프의 대...          None  \n",
       "899  {'question': '다음 중 폴란드에서 발생한 폭동의 원인이 아닌 것은 무엇입...          None  \n",
       "\n",
       "[900 rows x 4 columns]"
      ]
     },
     "execution_count": 9,
     "metadata": {},
     "output_type": "execute_result"
    }
   ],
   "source": [
    "bele_train"
   ]
  },
  {
   "cell_type": "code",
   "execution_count": 10,
   "id": "6de77773-1b64-4981-9ba9-2acfded76e4b",
   "metadata": {},
   "outputs": [],
   "source": [
    "bele_train.to_csv('bele_train.csv', index=False)"
   ]
  },
  {
   "cell_type": "markdown",
   "id": "89b8bf3f-73d0-427b-97b0-9ec4ba0a3ba9",
   "metadata": {},
   "source": [
    "# 아래서부터는 무시"
   ]
  },
  {
   "cell_type": "code",
   "execution_count": 11,
   "id": "0b742dc5-e82f-4978-98e0-3b1ae82edc50",
   "metadata": {},
   "outputs": [],
   "source": [
    "df1 = pd.read_csv('data/combined_cleaned_org.csv')"
   ]
  },
  {
   "cell_type": "code",
   "execution_count": 12,
   "id": "201b64fc-b57f-492c-831f-822f6d2a97f4",
   "metadata": {},
   "outputs": [],
   "source": [
    "df1_train = df1.iloc[:-201]\n",
    "df1_valid = df1.iloc[-201:]"
   ]
  },
  {
   "cell_type": "code",
   "execution_count": 13,
   "id": "d9110420-8ef4-428e-a1a1-ac2f8ef516b9",
   "metadata": {},
   "outputs": [],
   "source": [
    "combined_clean_bele = pd.concat([df1_train, bele_train, df1_valid], ignore_index=True)"
   ]
  },
  {
   "cell_type": "code",
   "execution_count": 14,
   "id": "f281942e-7770-43c1-aa7e-e62044e1bcb8",
   "metadata": {},
   "outputs": [],
   "source": [
    "combined_clean_bele.to_csv('combined_clean_bele.csv', index=False)"
   ]
  },
  {
   "cell_type": "code",
   "execution_count": 15,
   "id": "1bda20ae-d09b-4a3f-bdc3-ed32b532857f",
   "metadata": {},
   "outputs": [
    {
     "data": {
      "text/plain": [
       "2903"
      ]
     },
     "execution_count": 15,
     "metadata": {},
     "output_type": "execute_result"
    }
   ],
   "source": [
    "len(combined_clean_bele)"
   ]
  },
  {
   "cell_type": "code",
   "execution_count": 16,
   "id": "e4e4d4ab-cb73-491e-9c4e-4cb10ba42df5",
   "metadata": {},
   "outputs": [
    {
     "data": {
      "text/plain": [
       "2702"
      ]
     },
     "execution_count": 16,
     "metadata": {},
     "output_type": "execute_result"
    }
   ],
   "source": [
    "len(df1_train) + len(bele_train)"
   ]
  },
  {
   "cell_type": "code",
   "execution_count": null,
   "id": "155e3bfb-bb44-45d1-a86c-7913210ff2ab",
   "metadata": {},
   "outputs": [],
   "source": []
  }
 ],
 "metadata": {
  "kernelspec": {
   "display_name": "junhan",
   "language": "python",
   "name": "junhan"
  },
  "language_info": {
   "codemirror_mode": {
    "name": "ipython",
    "version": 3
   },
   "file_extension": ".py",
   "mimetype": "text/x-python",
   "name": "python",
   "nbconvert_exporter": "python",
   "pygments_lexer": "ipython3",
   "version": "3.8.20"
  }
 },
 "nbformat": 4,
 "nbformat_minor": 5
}
