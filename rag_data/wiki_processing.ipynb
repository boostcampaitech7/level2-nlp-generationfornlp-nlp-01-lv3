{
 "cells": [
  {
   "cell_type": "code",
   "execution_count": 1,
   "metadata": {},
   "outputs": [
    {
     "name": "stdout",
     "output_type": "stream",
     "text": [
      "테스트 파일 생성 완료: ./wiki_test.jsonl\n"
     ]
    }
   ],
   "source": [
    "import json\n",
    "\n",
    "# 원본 파일과 새로운 테스트 파일 경로 설정\n",
    "original_file = \"./wiki.jsonl\"\n",
    "test_file = \"./wiki_test.jsonl\"\n",
    "\n",
    "# 파일 읽고 첫 200개 라인 추출\n",
    "with open(original_file, \"r\", encoding=\"utf-8\") as infile, open(test_file, \"w\", encoding=\"utf-8\") as outfile:\n",
    "    for i, line in enumerate(infile):\n",
    "        if i >= 200:  # 200개만 추출\n",
    "            break\n",
    "        outfile.write(line)\n",
    "\n",
    "print(f\"테스트 파일 생성 완료: {test_file}\")\n"
   ]
  }
 ],
 "metadata": {
  "kernelspec": {
   "display_name": "base",
   "language": "python",
   "name": "python3"
  },
  "language_info": {
   "codemirror_mode": {
    "name": "ipython",
    "version": 3
   },
   "file_extension": ".py",
   "mimetype": "text/x-python",
   "name": "python",
   "nbconvert_exporter": "python",
   "pygments_lexer": "ipython3",
   "version": "3.10.13"
  }
 },
 "nbformat": 4,
 "nbformat_minor": 2
}
