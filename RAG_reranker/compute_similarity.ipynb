{
 "cells": [
  {
   "cell_type": "code",
   "execution_count": 7,
   "metadata": {},
   "outputs": [],
   "source": [
    "import pandas as pd\n",
    "import json\n",
    "from transformers import AutoTokenizer, AutoModelForSequenceClassification\n",
    "import torch\n"
   ]
  },
  {
   "cell_type": "code",
   "execution_count": 8,
   "metadata": {},
   "outputs": [],
   "source": [
    "# 유사도 계산 함수 정의\n",
    "def compute_similarity_cross_encoder(question, documents, tokenizer, model, top_k=3):\n",
    "    scores = []\n",
    "\n",
    "    for doc in documents:\n",
    "        # 질문과 문서를 입력으로 토크나이즈\n",
    "        inputs = tokenizer(\n",
    "            question,\n",
    "            doc,\n",
    "            padding=True,\n",
    "            truncation=True,\n",
    "            return_tensors=\"pt\",\n",
    "            max_length=512,\n",
    "        ).to(\"cuda\")\n",
    "\n",
    "        # 모델 추론으로 유사도 점수 계산\n",
    "        with torch.no_grad():\n",
    "            logits = model(**inputs).logits\n",
    "            score = torch.sigmoid(logits).squeeze().item()  # 시그모이드로 점수 변환\n",
    "            scores.append(score)\n",
    "\n",
    "    # Top-k 문서 선택\n",
    "    top_indices = sorted(range(len(scores)), key=lambda i: scores[i], reverse=True)[:top_k]\n",
    "    top_documents = [{\"content\": documents[i], \"score\": scores[i]} for i in top_indices]\n",
    "\n",
    "    return top_documents\n"
   ]
  },
  {
   "cell_type": "code",
   "execution_count": 9,
   "metadata": {},
   "outputs": [
    {
     "data": {
      "text/plain": [
       "XLMRobertaForSequenceClassification(\n",
       "  (roberta): XLMRobertaModel(\n",
       "    (embeddings): XLMRobertaEmbeddings(\n",
       "      (word_embeddings): Embedding(250002, 1024, padding_idx=1)\n",
       "      (position_embeddings): Embedding(8194, 1024, padding_idx=1)\n",
       "      (token_type_embeddings): Embedding(1, 1024)\n",
       "      (LayerNorm): LayerNorm((1024,), eps=1e-05, elementwise_affine=True)\n",
       "      (dropout): Dropout(p=0.1, inplace=False)\n",
       "    )\n",
       "    (encoder): XLMRobertaEncoder(\n",
       "      (layer): ModuleList(\n",
       "        (0-23): 24 x XLMRobertaLayer(\n",
       "          (attention): XLMRobertaAttention(\n",
       "            (self): XLMRobertaSelfAttention(\n",
       "              (query): Linear(in_features=1024, out_features=1024, bias=True)\n",
       "              (key): Linear(in_features=1024, out_features=1024, bias=True)\n",
       "              (value): Linear(in_features=1024, out_features=1024, bias=True)\n",
       "              (dropout): Dropout(p=0.1, inplace=False)\n",
       "            )\n",
       "            (output): XLMRobertaSelfOutput(\n",
       "              (dense): Linear(in_features=1024, out_features=1024, bias=True)\n",
       "              (LayerNorm): LayerNorm((1024,), eps=1e-05, elementwise_affine=True)\n",
       "              (dropout): Dropout(p=0.1, inplace=False)\n",
       "            )\n",
       "          )\n",
       "          (intermediate): XLMRobertaIntermediate(\n",
       "            (dense): Linear(in_features=1024, out_features=4096, bias=True)\n",
       "            (intermediate_act_fn): GELUActivation()\n",
       "          )\n",
       "          (output): XLMRobertaOutput(\n",
       "            (dense): Linear(in_features=4096, out_features=1024, bias=True)\n",
       "            (LayerNorm): LayerNorm((1024,), eps=1e-05, elementwise_affine=True)\n",
       "            (dropout): Dropout(p=0.1, inplace=False)\n",
       "          )\n",
       "        )\n",
       "      )\n",
       "    )\n",
       "  )\n",
       "  (classifier): XLMRobertaClassificationHead(\n",
       "    (dense): Linear(in_features=1024, out_features=1024, bias=True)\n",
       "    (dropout): Dropout(p=0.1, inplace=False)\n",
       "    (out_proj): Linear(in_features=1024, out_features=1, bias=True)\n",
       "  )\n",
       ")"
      ]
     },
     "execution_count": 9,
     "metadata": {},
     "output_type": "execute_result"
    }
   ],
   "source": [
    "# 모델과 토크나이저 로드\n",
    "model_name = \"dragonkue/bge-reranker-v2-m3-ko\"\n",
    "tokenizer = AutoTokenizer.from_pretrained(model_name)\n",
    "model = AutoModelForSequenceClassification.from_pretrained(model_name)\n",
    "model.eval()\n",
    "model.to(\"cuda\")  # GPU 사용\n",
    "\n",
    "\n"
   ]
  },
  {
   "cell_type": "code",
   "execution_count": 10,
   "metadata": {},
   "outputs": [],
   "source": [
    "# test.csv 파일 로드\n",
    "test_file_path = \"../rag_data/test.csv\"  # test.csv 파일 경로\n",
    "test_df = pd.read_csv(test_file_path)\n"
   ]
  },
  {
   "cell_type": "code",
   "execution_count": 11,
   "metadata": {},
   "outputs": [],
   "source": [
    "# test.csv에서 질문 추출\n",
    "test_questions = test_df[\"problems\"].apply(lambda x: eval(x)[\"question\"]).tolist()\n"
   ]
  },
  {
   "cell_type": "code",
   "execution_count": 12,
   "metadata": {},
   "outputs": [],
   "source": [
    "# Wiki 데이터 로드\n",
    "wiki_file_path = \"../rag_data/wiki_test.jsonl\"  # Wiki JSONL 파일 경로\n",
    "wiki_data = []\n",
    "with open(wiki_file_path, \"r\", encoding=\"utf-8\") as file:\n",
    "    for line in file:\n",
    "        wiki_data.append(json.loads(line))\n"
   ]
  },
  {
   "cell_type": "code",
   "execution_count": 13,
   "metadata": {},
   "outputs": [],
   "source": [
    "# Wiki 데이터에서 문서 내용 추출\n",
    "example_documents = [doc[\"content\"] for doc in wiki_data]"
   ]
  },
  {
   "cell_type": "code",
   "execution_count": 14,
   "metadata": {},
   "outputs": [
    {
     "name": "stdout",
     "output_type": "stream",
     "text": [
      "Unexpected exception formatting exception. Falling back to standard exception\n"
     ]
    },
    {
     "name": "stderr",
     "output_type": "stream",
     "text": [
      "Traceback (most recent call last):\n",
      "  File \"/opt/conda/lib/python3.10/site-packages/IPython/core/interactiveshell.py\", line 3526, in run_code\n",
      "    exec(code_obj, self.user_global_ns, self.user_ns)\n",
      "  File \"/tmp/ipykernel_850658/608308242.py\", line 6, in <module>\n",
      "    top_documents = compute_similarity_cross_encoder(question, example_documents, tokenizer, model, top_k=3)\n",
      "  File \"/tmp/ipykernel_850658/1021219155.py\", line 7, in compute_similarity_cross_encoder\n",
      "    inputs = tokenizer(\n",
      "  File \"/opt/conda/lib/python3.10/site-packages/transformers/tokenization_utils_base.py\", line 3055, in __call__\n",
      "    verbose: bool = True,\n",
      "  File \"/opt/conda/lib/python3.10/site-packages/transformers/tokenization_utils_base.py\", line 3163, in _call_one\n",
      "    stride: int = 0,\n",
      "  File \"/opt/conda/lib/python3.10/site-packages/transformers/tokenization_utils_base.py\", line 3237, in encode_plus\n",
      "    max_length: Optional[int] = None,\n",
      "  File \"/opt/conda/lib/python3.10/site-packages/transformers/tokenization_utils_fast.py\", line 601, in _encode_plus\n",
      "    ) -> BatchEncoding:\n",
      "  File \"/opt/conda/lib/python3.10/site-packages/transformers/tokenization_utils_fast.py\", line 528, in _batch_encode_plus\n",
      "KeyboardInterrupt\n",
      "\n",
      "During handling of the above exception, another exception occurred:\n",
      "\n",
      "Traceback (most recent call last):\n",
      "  File \"/opt/conda/lib/python3.10/site-packages/IPython/core/interactiveshell.py\", line 2120, in showtraceback\n",
      "    stb = self.InteractiveTB.structured_traceback(\n",
      "  File \"/opt/conda/lib/python3.10/site-packages/IPython/core/ultratb.py\", line 1435, in structured_traceback\n",
      "    return FormattedTB.structured_traceback(\n",
      "  File \"/opt/conda/lib/python3.10/site-packages/IPython/core/ultratb.py\", line 1326, in structured_traceback\n",
      "    return VerboseTB.structured_traceback(\n",
      "  File \"/opt/conda/lib/python3.10/site-packages/IPython/core/ultratb.py\", line 1173, in structured_traceback\n",
      "    formatted_exception = self.format_exception_as_a_whole(etype, evalue, etb, number_of_lines_of_context,\n",
      "  File \"/opt/conda/lib/python3.10/site-packages/IPython/core/ultratb.py\", line 1088, in format_exception_as_a_whole\n",
      "    frames.append(self.format_record(record))\n",
      "  File \"/opt/conda/lib/python3.10/site-packages/IPython/core/ultratb.py\", line 970, in format_record\n",
      "    frame_info.lines, Colors, self.has_colors, lvals\n",
      "  File \"/opt/conda/lib/python3.10/site-packages/IPython/core/ultratb.py\", line 792, in lines\n",
      "    return self._sd.lines\n",
      "  File \"/opt/conda/lib/python3.10/site-packages/stack_data/utils.py\", line 145, in cached_property_wrapper\n",
      "    value = obj.__dict__[self.func.__name__] = self.func(obj)\n",
      "  File \"/opt/conda/lib/python3.10/site-packages/stack_data/core.py\", line 698, in lines\n",
      "    pieces = self.included_pieces\n",
      "  File \"/opt/conda/lib/python3.10/site-packages/stack_data/utils.py\", line 145, in cached_property_wrapper\n",
      "    value = obj.__dict__[self.func.__name__] = self.func(obj)\n",
      "  File \"/opt/conda/lib/python3.10/site-packages/stack_data/core.py\", line 649, in included_pieces\n",
      "    pos = scope_pieces.index(self.executing_piece)\n",
      "  File \"/opt/conda/lib/python3.10/site-packages/stack_data/utils.py\", line 145, in cached_property_wrapper\n",
      "    value = obj.__dict__[self.func.__name__] = self.func(obj)\n",
      "  File \"/opt/conda/lib/python3.10/site-packages/stack_data/core.py\", line 628, in executing_piece\n",
      "    return only(\n",
      "  File \"/opt/conda/lib/python3.10/site-packages/executing/executing.py\", line 164, in only\n",
      "    raise NotOneValueFound('Expected one value, found 0')\n",
      "executing.executing.NotOneValueFound: Expected one value, found 0\n"
     ]
    }
   ],
   "source": [
    "# 질문 리스트에서 wiki_data와 유사한 문서 추출\n",
    "results = []\n",
    "\n",
    "for question in test_questions:\n",
    "    # 각 질문에 대해 유사한 문서 검색\n",
    "    top_documents = compute_similarity_cross_encoder(question, example_documents, tokenizer, model, top_k=3)\n",
    "    # 검색 결과 저장\n",
    "    results.append({\n",
    "        \"question\": question,\n",
    "        \"top_documents\": top_documents\n",
    "    })\n",
    "\n",
    "# 결과를 DataFrame으로 변환\n",
    "final_results = []\n",
    "for result in results:\n",
    "    question = result[\"question\"]\n",
    "    for doc in result[\"top_documents\"]:\n",
    "        final_results.append({\n",
    "            \"question\": question,\n",
    "            \"document_content\": doc[\"content\"],\n",
    "            \"score\": doc[\"score\"]\n",
    "        })\n",
    "\n",
    "results_df = pd.DataFrame(final_results)"
   ]
  },
  {
   "cell_type": "code",
   "execution_count": null,
   "metadata": {},
   "outputs": [],
   "source": [
    "# 결과 저장 및 출력\n",
    "results_df.to_csv(\"retrieval_results.csv\", index=False)  # CSV 파일로 저장\n",
    "print(results_df.head())  # 결과 미리보기"
   ]
  },
  {
   "cell_type": "markdown",
   "metadata": {},
   "source": []
  }
 ],
 "metadata": {
  "kernelspec": {
   "display_name": "base",
   "language": "python",
   "name": "python3"
  },
  "language_info": {
   "codemirror_mode": {
    "name": "ipython",
    "version": 3
   },
   "file_extension": ".py",
   "mimetype": "text/x-python",
   "name": "python",
   "nbconvert_exporter": "python",
   "pygments_lexer": "ipython3",
   "version": "3.10.13"
  }
 },
 "nbformat": 4,
 "nbformat_minor": 2
}
