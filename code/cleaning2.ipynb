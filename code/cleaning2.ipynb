{
 "cells": [
  {
   "cell_type": "code",
   "execution_count": 13,
   "metadata": {},
   "outputs": [
    {
     "name": "stdout",
     "output_type": "stream",
     "text": [
      "추정 인코딩: CP949\n"
     ]
    }
   ],
   "source": [
    "import chardet\n",
    "\n",
    "# 파일 인코딩 확인\n",
    "file_path = '../data/processed_train.csv'\n",
    "with open(file_path, 'rb') as file:\n",
    "    result = chardet.detect(file.read())\n",
    "    print(f\"추정 인코딩: {result['encoding']}\")\n"
   ]
  },
  {
   "cell_type": "code",
   "execution_count": 14,
   "metadata": {},
   "outputs": [
    {
     "name": "stdout",
     "output_type": "stream",
     "text": [
      "클리닝된 데이터를 '../data/cleaned_data.csv'에 저장했습니다.\n"
     ]
    }
   ],
   "source": [
    "import pandas as pd\n",
    "import json\n",
    "\n",
    "# 파일을 CP949 인코딩으로 읽기\n",
    "file_path = '../data/processed_train.csv'  # 파일 경로를 여기에 입력하세요.\n",
    "data = pd.read_csv(file_path, encoding=\"CP949\")\n",
    "\n",
    "# 데이터 클리닝 함수\n",
    "def clean_data(row):\n",
    "    # paragraph 열에서 '['와 ']' 제거\n",
    "    row['paragraph'] = row['paragraph'].replace('[', '').replace(']', '')\n",
    "    \n",
    "    # problems 열 처리: JSON 변환 후 question에서 \"밑줄 친\" 제거\n",
    "    try:\n",
    "        problems = json.loads(row['problems'].replace(\"'\", '\"'))  # 문자열 -> JSON 변환\n",
    "        question = problems.get('question', '')\n",
    "        problems['question'] = question.replace('밑줄 친', '')  # \"밑줄 친\" 제거\n",
    "        row['problems'] = json.dumps(problems, ensure_ascii=False)  # JSON -> 문자열 변환\n",
    "    except Exception as e:\n",
    "        pass  # 변환 오류가 발생하면 그대로 둠\n",
    "    \n",
    "    return row\n",
    "\n",
    "# 모든 행에 데이터 클리닝 적용\n",
    "data = data.apply(clean_data, axis=1)\n",
    "\n",
    "# 결과 저장\n",
    "output_path = '../data/cleaned_data.csv'  # 저장할 파일 경로\n",
    "data.to_csv(output_path, index=False)\n",
    "\n",
    "print(f\"클리닝된 데이터를 '{output_path}'에 저장했습니다.\")\n"
   ]
  }
 ],
 "metadata": {
  "kernelspec": {
   "display_name": "base",
   "language": "python",
   "name": "python3"
  },
  "language_info": {
   "codemirror_mode": {
    "name": "ipython",
    "version": 3
   },
   "file_extension": ".py",
   "mimetype": "text/x-python",
   "name": "python",
   "nbconvert_exporter": "python",
   "pygments_lexer": "ipython3",
   "version": "3.10.13"
  }
 },
 "nbformat": 4,
 "nbformat_minor": 2
}
