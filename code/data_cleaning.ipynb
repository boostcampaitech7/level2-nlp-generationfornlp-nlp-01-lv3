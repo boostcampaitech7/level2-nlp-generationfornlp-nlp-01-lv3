{
 "cells": [
  {
   "cell_type": "code",
   "execution_count": 1,
   "metadata": {},
   "outputs": [],
   "source": [
    "import pandas as pd\n",
    "import re"
   ]
  },
  {
   "cell_type": "code",
   "execution_count": 6,
   "metadata": {},
   "outputs": [],
   "source": [
    "# Reloading the updated train dataset\n",
    "train_path_updated = '../data/train_df.csv'\n",
    "train_data = pd.read_csv(train_path_updated)"
   ]
  },
  {
   "cell_type": "code",
   "execution_count": 11,
   "metadata": {},
   "outputs": [],
   "source": [
    "def preprocess_paragraph(text):\n",
    "    if pd.isnull(text):  \n",
    "        return text\n",
    "    return text.replace('[', '').replace(']', '')  \n",
    "\n",
    "def preprocess_question(text):\n",
    "    if pd.isnull(text):  \n",
    "        return text\n",
    "    return text.replace(\"밑줄 친\", '')  "
   ]
  },
  {
   "cell_type": "code",
   "execution_count": 12,
   "metadata": {},
   "outputs": [],
   "source": [
    "# Apply preprocessing to 'paragraph' and 'question' columns\n",
    "train_data['paragraph'] = train_data['paragraph'].apply(preprocess_paragraph)\n",
    "train_data['question'] = train_data['question'].apply(preprocess_question)"
   ]
  },
  {
   "cell_type": "code",
   "execution_count": 13,
   "metadata": {},
   "outputs": [
    {
     "name": "stdout",
     "output_type": "stream",
     "text": [
      "Processed file saved at: ../data/processed_train_df.csv\n"
     ]
    }
   ],
   "source": [
    "# Save the processed DataFrame to a new CSV\n",
    "processed_file_path = '../data/processed_train_df.csv'\n",
    "train_data.to_csv(processed_file_path, index=False)\n",
    "\n",
    "print(f\"Processed file saved at: {processed_file_path}\")"
   ]
  },
  {
   "cell_type": "code",
   "execution_count": 14,
   "metadata": {},
   "outputs": [],
   "source": [
    "html_content = train_data.to_html()\n",
    "html_file_path = '../data/processed_train_df.html'\n",
    "\n",
    "with open(html_file_path, 'w') as f:\n",
    "    f.write(html_content)"
   ]
  }
 ],
 "metadata": {
  "kernelspec": {
   "display_name": "base",
   "language": "python",
   "name": "python3"
  },
  "language_info": {
   "codemirror_mode": {
    "name": "ipython",
    "version": 3
   },
   "file_extension": ".py",
   "mimetype": "text/x-python",
   "name": "python",
   "nbconvert_exporter": "python",
   "pygments_lexer": "ipython3",
   "version": "3.10.13"
  }
 },
 "nbformat": 4,
 "nbformat_minor": 2
}
